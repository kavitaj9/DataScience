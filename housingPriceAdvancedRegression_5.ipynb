{
 "cells": [
  {
   "cell_type": "code",
   "execution_count": 849,
   "metadata": {},
   "outputs": [],
   "source": [
    "import numpy as np\n",
    "import pandas as pd\n",
    "import matplotlib.pyplot as plt\n",
    "import seaborn as sns\n",
    "from sklearn import linear_model\n",
    "from sklearn.linear_model import LinearRegression\n",
    "from sklearn.linear_model import Ridge, RidgeCV, Lasso, LassoCV\n",
    "from sklearn.model_selection import GridSearchCV\n",
    "from sklearn.metrics import mean_squared_error\n",
    "from sklearn.feature_selection import RFE\n",
    "from sklearn.linear_model import LinearRegression\n",
    "from sklearn.metrics import mean_squared_error, r2_score\n",
    "import statsmodels.api as sm\n",
    "# Import label encoder \n",
    "from sklearn import preprocessing \n",
    "\n",
    "import os\n",
    "\n",
    "# hide warnings\n",
    "import warnings\n",
    "warnings.filterwarnings('ignore')"
   ]
  },
  {
   "cell_type": "code",
   "execution_count": 850,
   "metadata": {},
   "outputs": [],
   "source": [
    "#Reading the dataframe\n",
    "train = pd.read_csv(\"./train.csv\")"
   ]
  },
  {
   "cell_type": "code",
   "execution_count": 851,
   "metadata": {},
   "outputs": [
    {
     "name": "stdout",
     "output_type": "stream",
     "text": [
      "<class 'pandas.core.frame.DataFrame'>\n",
      "RangeIndex: 1460 entries, 0 to 1459\n",
      "Data columns (total 81 columns):\n",
      "Id               1460 non-null int64\n",
      "MSSubClass       1460 non-null int64\n",
      "MSZoning         1460 non-null object\n",
      "LotFrontage      1201 non-null float64\n",
      "LotArea          1460 non-null int64\n",
      "Street           1460 non-null object\n",
      "Alley            91 non-null object\n",
      "LotShape         1460 non-null object\n",
      "LandContour      1460 non-null object\n",
      "Utilities        1460 non-null object\n",
      "LotConfig        1460 non-null object\n",
      "LandSlope        1460 non-null object\n",
      "Neighborhood     1460 non-null object\n",
      "Condition1       1460 non-null object\n",
      "Condition2       1460 non-null object\n",
      "BldgType         1460 non-null object\n",
      "HouseStyle       1460 non-null object\n",
      "OverallQual      1460 non-null int64\n",
      "OverallCond      1460 non-null int64\n",
      "YearBuilt        1460 non-null int64\n",
      "YearRemodAdd     1460 non-null int64\n",
      "RoofStyle        1460 non-null object\n",
      "RoofMatl         1460 non-null object\n",
      "Exterior1st      1460 non-null object\n",
      "Exterior2nd      1460 non-null object\n",
      "MasVnrType       1452 non-null object\n",
      "MasVnrArea       1452 non-null float64\n",
      "ExterQual        1460 non-null object\n",
      "ExterCond        1460 non-null object\n",
      "Foundation       1460 non-null object\n",
      "BsmtQual         1423 non-null object\n",
      "BsmtCond         1423 non-null object\n",
      "BsmtExposure     1422 non-null object\n",
      "BsmtFinType1     1423 non-null object\n",
      "BsmtFinSF1       1460 non-null int64\n",
      "BsmtFinType2     1422 non-null object\n",
      "BsmtFinSF2       1460 non-null int64\n",
      "BsmtUnfSF        1460 non-null int64\n",
      "TotalBsmtSF      1460 non-null int64\n",
      "Heating          1460 non-null object\n",
      "HeatingQC        1460 non-null object\n",
      "CentralAir       1460 non-null object\n",
      "Electrical       1459 non-null object\n",
      "1stFlrSF         1460 non-null int64\n",
      "2ndFlrSF         1460 non-null int64\n",
      "LowQualFinSF     1460 non-null int64\n",
      "GrLivArea        1460 non-null int64\n",
      "BsmtFullBath     1460 non-null int64\n",
      "BsmtHalfBath     1460 non-null int64\n",
      "FullBath         1460 non-null int64\n",
      "HalfBath         1460 non-null int64\n",
      "BedroomAbvGr     1460 non-null int64\n",
      "KitchenAbvGr     1460 non-null int64\n",
      "KitchenQual      1460 non-null object\n",
      "TotRmsAbvGrd     1460 non-null int64\n",
      "Functional       1460 non-null object\n",
      "Fireplaces       1460 non-null int64\n",
      "FireplaceQu      770 non-null object\n",
      "GarageType       1379 non-null object\n",
      "GarageYrBlt      1379 non-null float64\n",
      "GarageFinish     1379 non-null object\n",
      "GarageCars       1460 non-null int64\n",
      "GarageArea       1460 non-null int64\n",
      "GarageQual       1379 non-null object\n",
      "GarageCond       1379 non-null object\n",
      "PavedDrive       1460 non-null object\n",
      "WoodDeckSF       1460 non-null int64\n",
      "OpenPorchSF      1460 non-null int64\n",
      "EnclosedPorch    1460 non-null int64\n",
      "3SsnPorch        1460 non-null int64\n",
      "ScreenPorch      1460 non-null int64\n",
      "PoolArea         1460 non-null int64\n",
      "PoolQC           7 non-null object\n",
      "Fence            281 non-null object\n",
      "MiscFeature      54 non-null object\n",
      "MiscVal          1460 non-null int64\n",
      "MoSold           1460 non-null int64\n",
      "YrSold           1460 non-null int64\n",
      "SaleType         1460 non-null object\n",
      "SaleCondition    1460 non-null object\n",
      "SalePrice        1460 non-null int64\n",
      "dtypes: float64(3), int64(35), object(43)\n",
      "memory usage: 924.0+ KB\n"
     ]
    }
   ],
   "source": [
    "train.info()"
   ]
  },
  {
   "cell_type": "code",
   "execution_count": 852,
   "metadata": {},
   "outputs": [
    {
     "data": {
      "text/html": [
       "<div>\n",
       "<style scoped>\n",
       "    .dataframe tbody tr th:only-of-type {\n",
       "        vertical-align: middle;\n",
       "    }\n",
       "\n",
       "    .dataframe tbody tr th {\n",
       "        vertical-align: top;\n",
       "    }\n",
       "\n",
       "    .dataframe thead th {\n",
       "        text-align: right;\n",
       "    }\n",
       "</style>\n",
       "<table border=\"1\" class=\"dataframe\">\n",
       "  <thead>\n",
       "    <tr style=\"text-align: right;\">\n",
       "      <th></th>\n",
       "      <th>Id</th>\n",
       "      <th>MSSubClass</th>\n",
       "      <th>MSZoning</th>\n",
       "      <th>LotFrontage</th>\n",
       "      <th>LotArea</th>\n",
       "      <th>Street</th>\n",
       "      <th>Alley</th>\n",
       "      <th>LotShape</th>\n",
       "      <th>LandContour</th>\n",
       "      <th>Utilities</th>\n",
       "      <th>...</th>\n",
       "      <th>PoolArea</th>\n",
       "      <th>PoolQC</th>\n",
       "      <th>Fence</th>\n",
       "      <th>MiscFeature</th>\n",
       "      <th>MiscVal</th>\n",
       "      <th>MoSold</th>\n",
       "      <th>YrSold</th>\n",
       "      <th>SaleType</th>\n",
       "      <th>SaleCondition</th>\n",
       "      <th>SalePrice</th>\n",
       "    </tr>\n",
       "  </thead>\n",
       "  <tbody>\n",
       "    <tr>\n",
       "      <th>0</th>\n",
       "      <td>1</td>\n",
       "      <td>60</td>\n",
       "      <td>RL</td>\n",
       "      <td>65.0</td>\n",
       "      <td>8450</td>\n",
       "      <td>Pave</td>\n",
       "      <td>NaN</td>\n",
       "      <td>Reg</td>\n",
       "      <td>Lvl</td>\n",
       "      <td>AllPub</td>\n",
       "      <td>...</td>\n",
       "      <td>0</td>\n",
       "      <td>NaN</td>\n",
       "      <td>NaN</td>\n",
       "      <td>NaN</td>\n",
       "      <td>0</td>\n",
       "      <td>2</td>\n",
       "      <td>2008</td>\n",
       "      <td>WD</td>\n",
       "      <td>Normal</td>\n",
       "      <td>208500</td>\n",
       "    </tr>\n",
       "    <tr>\n",
       "      <th>1</th>\n",
       "      <td>2</td>\n",
       "      <td>20</td>\n",
       "      <td>RL</td>\n",
       "      <td>80.0</td>\n",
       "      <td>9600</td>\n",
       "      <td>Pave</td>\n",
       "      <td>NaN</td>\n",
       "      <td>Reg</td>\n",
       "      <td>Lvl</td>\n",
       "      <td>AllPub</td>\n",
       "      <td>...</td>\n",
       "      <td>0</td>\n",
       "      <td>NaN</td>\n",
       "      <td>NaN</td>\n",
       "      <td>NaN</td>\n",
       "      <td>0</td>\n",
       "      <td>5</td>\n",
       "      <td>2007</td>\n",
       "      <td>WD</td>\n",
       "      <td>Normal</td>\n",
       "      <td>181500</td>\n",
       "    </tr>\n",
       "    <tr>\n",
       "      <th>2</th>\n",
       "      <td>3</td>\n",
       "      <td>60</td>\n",
       "      <td>RL</td>\n",
       "      <td>68.0</td>\n",
       "      <td>11250</td>\n",
       "      <td>Pave</td>\n",
       "      <td>NaN</td>\n",
       "      <td>IR1</td>\n",
       "      <td>Lvl</td>\n",
       "      <td>AllPub</td>\n",
       "      <td>...</td>\n",
       "      <td>0</td>\n",
       "      <td>NaN</td>\n",
       "      <td>NaN</td>\n",
       "      <td>NaN</td>\n",
       "      <td>0</td>\n",
       "      <td>9</td>\n",
       "      <td>2008</td>\n",
       "      <td>WD</td>\n",
       "      <td>Normal</td>\n",
       "      <td>223500</td>\n",
       "    </tr>\n",
       "    <tr>\n",
       "      <th>3</th>\n",
       "      <td>4</td>\n",
       "      <td>70</td>\n",
       "      <td>RL</td>\n",
       "      <td>60.0</td>\n",
       "      <td>9550</td>\n",
       "      <td>Pave</td>\n",
       "      <td>NaN</td>\n",
       "      <td>IR1</td>\n",
       "      <td>Lvl</td>\n",
       "      <td>AllPub</td>\n",
       "      <td>...</td>\n",
       "      <td>0</td>\n",
       "      <td>NaN</td>\n",
       "      <td>NaN</td>\n",
       "      <td>NaN</td>\n",
       "      <td>0</td>\n",
       "      <td>2</td>\n",
       "      <td>2006</td>\n",
       "      <td>WD</td>\n",
       "      <td>Abnorml</td>\n",
       "      <td>140000</td>\n",
       "    </tr>\n",
       "    <tr>\n",
       "      <th>4</th>\n",
       "      <td>5</td>\n",
       "      <td>60</td>\n",
       "      <td>RL</td>\n",
       "      <td>84.0</td>\n",
       "      <td>14260</td>\n",
       "      <td>Pave</td>\n",
       "      <td>NaN</td>\n",
       "      <td>IR1</td>\n",
       "      <td>Lvl</td>\n",
       "      <td>AllPub</td>\n",
       "      <td>...</td>\n",
       "      <td>0</td>\n",
       "      <td>NaN</td>\n",
       "      <td>NaN</td>\n",
       "      <td>NaN</td>\n",
       "      <td>0</td>\n",
       "      <td>12</td>\n",
       "      <td>2008</td>\n",
       "      <td>WD</td>\n",
       "      <td>Normal</td>\n",
       "      <td>250000</td>\n",
       "    </tr>\n",
       "  </tbody>\n",
       "</table>\n",
       "<p>5 rows × 81 columns</p>\n",
       "</div>"
      ],
      "text/plain": [
       "   Id  MSSubClass MSZoning  LotFrontage  LotArea Street Alley LotShape  \\\n",
       "0   1          60       RL         65.0     8450   Pave   NaN      Reg   \n",
       "1   2          20       RL         80.0     9600   Pave   NaN      Reg   \n",
       "2   3          60       RL         68.0    11250   Pave   NaN      IR1   \n",
       "3   4          70       RL         60.0     9550   Pave   NaN      IR1   \n",
       "4   5          60       RL         84.0    14260   Pave   NaN      IR1   \n",
       "\n",
       "  LandContour Utilities    ...     PoolArea PoolQC Fence MiscFeature MiscVal  \\\n",
       "0         Lvl    AllPub    ...            0    NaN   NaN         NaN       0   \n",
       "1         Lvl    AllPub    ...            0    NaN   NaN         NaN       0   \n",
       "2         Lvl    AllPub    ...            0    NaN   NaN         NaN       0   \n",
       "3         Lvl    AllPub    ...            0    NaN   NaN         NaN       0   \n",
       "4         Lvl    AllPub    ...            0    NaN   NaN         NaN       0   \n",
       "\n",
       "  MoSold YrSold  SaleType  SaleCondition  SalePrice  \n",
       "0      2   2008        WD         Normal     208500  \n",
       "1      5   2007        WD         Normal     181500  \n",
       "2      9   2008        WD         Normal     223500  \n",
       "3      2   2006        WD        Abnorml     140000  \n",
       "4     12   2008        WD         Normal     250000  \n",
       "\n",
       "[5 rows x 81 columns]"
      ]
     },
     "execution_count": 852,
     "metadata": {},
     "output_type": "execute_result"
    }
   ],
   "source": [
    "train.head()"
   ]
  },
  {
   "cell_type": "code",
   "execution_count": 853,
   "metadata": {},
   "outputs": [
    {
     "data": {
      "text/plain": [
       "PoolQC          99.52\n",
       "MiscFeature     96.30\n",
       "Alley           93.77\n",
       "Fence           80.75\n",
       "FireplaceQu     47.26\n",
       "LotFrontage     17.74\n",
       "GarageCond       5.55\n",
       "GarageType       5.55\n",
       "GarageYrBlt      5.55\n",
       "GarageFinish     5.55\n",
       "dtype: float64"
      ]
     },
     "execution_count": 853,
     "metadata": {},
     "output_type": "execute_result"
    }
   ],
   "source": [
    "round(train.isnull().sum()/len(train.index)*100,2).sort_values(ascending=False).head(10)\n",
    "#Remove features which are having more than 30% NUll values"
   ]
  },
  {
   "cell_type": "code",
   "execution_count": 854,
   "metadata": {},
   "outputs": [
    {
     "data": {
      "text/plain": [
       "1179"
      ]
     },
     "execution_count": 854,
     "metadata": {},
     "output_type": "execute_result"
    }
   ],
   "source": [
    "train['Fence'].isnull().sum()"
   ]
  },
  {
   "cell_type": "code",
   "execution_count": 855,
   "metadata": {},
   "outputs": [
    {
     "data": {
      "text/plain": [
       "0.0"
      ]
     },
     "execution_count": 855,
     "metadata": {},
     "output_type": "execute_result"
    }
   ],
   "source": [
    "#If Fireplace is not there then FireplaceQu is Null, correcting this\n",
    "train.loc[(train.Fireplaces == 0),['FireplaceQu']] = 'NA'\n",
    "\n",
    "round(train['FireplaceQu'].isnull().sum()/len(train.index)*100,2)"
   ]
  },
  {
   "cell_type": "code",
   "execution_count": 856,
   "metadata": {},
   "outputs": [
    {
     "data": {
      "text/plain": [
       "PoolQC          99.52\n",
       "MiscFeature     96.30\n",
       "Alley           93.77\n",
       "Fence           80.75\n",
       "LotFrontage     17.74\n",
       "GarageQual       5.55\n",
       "GarageCond       5.55\n",
       "GarageYrBlt      5.55\n",
       "GarageType       5.55\n",
       "GarageFinish     5.55\n",
       "dtype: float64"
      ]
     },
     "execution_count": 856,
     "metadata": {},
     "output_type": "execute_result"
    }
   ],
   "source": [
    "round(train.isnull().sum()/len(train.index)*100,2).sort_values(ascending=False).head(10)"
   ]
  },
  {
   "cell_type": "code",
   "execution_count": 857,
   "metadata": {},
   "outputs": [],
   "source": [
    "#Deleting 4 features having very high Null values and do not hold much business value\n",
    "train  = train.loc[:,round(train.isnull().sum()/len(train.index)*100,2) < 30]"
   ]
  },
  {
   "cell_type": "code",
   "execution_count": 858,
   "metadata": {},
   "outputs": [
    {
     "data": {
      "text/plain": [
       "LotFrontage     17.74\n",
       "GarageFinish     5.55\n",
       "GarageType       5.55\n",
       "GarageCond       5.55\n",
       "GarageQual       5.55\n",
       "GarageYrBlt      5.55\n",
       "BsmtExposure     2.60\n",
       "BsmtFinType2     2.60\n",
       "BsmtFinType1     2.53\n",
       "BsmtCond         2.53\n",
       "dtype: float64"
      ]
     },
     "execution_count": 858,
     "metadata": {},
     "output_type": "execute_result"
    }
   ],
   "source": [
    "round(train.isnull().sum()/len(train.index)*100,2).sort_values(ascending=False).head(10)"
   ]
  },
  {
   "cell_type": "code",
   "execution_count": 859,
   "metadata": {},
   "outputs": [
    {
     "data": {
      "text/plain": [
       "LotFrontage     259\n",
       "GarageFinish     81\n",
       "GarageType       81\n",
       "GarageCond       81\n",
       "GarageQual       81\n",
       "GarageYrBlt      81\n",
       "BsmtExposure     38\n",
       "BsmtFinType2     38\n",
       "BsmtFinType1     37\n",
       "BsmtCond         37\n",
       "dtype: int64"
      ]
     },
     "execution_count": 859,
     "metadata": {},
     "output_type": "execute_result"
    }
   ],
   "source": [
    "(train.isnull().sum()).sort_values(ascending=False).head(10)"
   ]
  },
  {
   "cell_type": "code",
   "execution_count": 860,
   "metadata": {},
   "outputs": [
    {
     "data": {
      "text/html": [
       "<div>\n",
       "<style scoped>\n",
       "    .dataframe tbody tr th:only-of-type {\n",
       "        vertical-align: middle;\n",
       "    }\n",
       "\n",
       "    .dataframe tbody tr th {\n",
       "        vertical-align: top;\n",
       "    }\n",
       "\n",
       "    .dataframe thead th {\n",
       "        text-align: right;\n",
       "    }\n",
       "</style>\n",
       "<table border=\"1\" class=\"dataframe\">\n",
       "  <thead>\n",
       "    <tr style=\"text-align: right;\">\n",
       "      <th></th>\n",
       "      <th>LotFrontage</th>\n",
       "      <th>LotArea</th>\n",
       "    </tr>\n",
       "  </thead>\n",
       "  <tbody>\n",
       "    <tr>\n",
       "      <th>count</th>\n",
       "      <td>1201.000000</td>\n",
       "      <td>1460.000000</td>\n",
       "    </tr>\n",
       "    <tr>\n",
       "      <th>mean</th>\n",
       "      <td>70.049958</td>\n",
       "      <td>10516.828082</td>\n",
       "    </tr>\n",
       "    <tr>\n",
       "      <th>std</th>\n",
       "      <td>24.284752</td>\n",
       "      <td>9981.264932</td>\n",
       "    </tr>\n",
       "    <tr>\n",
       "      <th>min</th>\n",
       "      <td>21.000000</td>\n",
       "      <td>1300.000000</td>\n",
       "    </tr>\n",
       "    <tr>\n",
       "      <th>25%</th>\n",
       "      <td>59.000000</td>\n",
       "      <td>7553.500000</td>\n",
       "    </tr>\n",
       "    <tr>\n",
       "      <th>50%</th>\n",
       "      <td>69.000000</td>\n",
       "      <td>9478.500000</td>\n",
       "    </tr>\n",
       "    <tr>\n",
       "      <th>75%</th>\n",
       "      <td>80.000000</td>\n",
       "      <td>11601.500000</td>\n",
       "    </tr>\n",
       "    <tr>\n",
       "      <th>max</th>\n",
       "      <td>313.000000</td>\n",
       "      <td>215245.000000</td>\n",
       "    </tr>\n",
       "  </tbody>\n",
       "</table>\n",
       "</div>"
      ],
      "text/plain": [
       "       LotFrontage        LotArea\n",
       "count  1201.000000    1460.000000\n",
       "mean     70.049958   10516.828082\n",
       "std      24.284752    9981.264932\n",
       "min      21.000000    1300.000000\n",
       "25%      59.000000    7553.500000\n",
       "50%      69.000000    9478.500000\n",
       "75%      80.000000   11601.500000\n",
       "max     313.000000  215245.000000"
      ]
     },
     "execution_count": 860,
     "metadata": {},
     "output_type": "execute_result"
    }
   ],
   "source": [
    "#LotFrontage is almost 18% Null values\n",
    "train[['LotFrontage','LotArea']].describe()"
   ]
  },
  {
   "cell_type": "code",
   "execution_count": 861,
   "metadata": {},
   "outputs": [
    {
     "data": {
      "text/plain": [
       "LotShape\n",
       "IR1    167\n",
       "IR2     15\n",
       "IR3      3\n",
       "Reg     74\n",
       "Name: LotShape, dtype: int64"
      ]
     },
     "execution_count": 861,
     "metadata": {},
     "output_type": "execute_result"
    }
   ],
   "source": [
    "#IR1 shape Null % is higher\n",
    "train.loc[train.LotFrontage.isnull(),['LotShape']].groupby('LotShape')['LotShape'].count()"
   ]
  },
  {
   "cell_type": "code",
   "execution_count": 862,
   "metadata": {},
   "outputs": [
    {
     "data": {
      "text/plain": [
       "LotShape\n",
       "IR1    484\n",
       "IR2     41\n",
       "IR3     10\n",
       "Reg    925\n",
       "Name: LotShape, dtype: int64"
      ]
     },
     "execution_count": 862,
     "metadata": {},
     "output_type": "execute_result"
    }
   ],
   "source": [
    "train.groupby('LotShape')['LotShape'].count()\n",
    "#In overall data Reg shape is more"
   ]
  },
  {
   "cell_type": "code",
   "execution_count": 863,
   "metadata": {},
   "outputs": [
    {
     "data": {
      "text/plain": [
       "LotShape\n",
       "IR1    11894.545455\n",
       "IR2    23733.658537\n",
       "IR3    41338.200000\n",
       "Reg     8876.915676\n",
       "Name: LotArea, dtype: float64"
      ]
     },
     "execution_count": 863,
     "metadata": {},
     "output_type": "execute_result"
    }
   ],
   "source": [
    "#Finding out mean value for every shape type and this will be used to impute Null values\n",
    "df = train.groupby('LotShape')['LotArea'].mean()\n",
    "df\n"
   ]
  },
  {
   "cell_type": "code",
   "execution_count": 864,
   "metadata": {},
   "outputs": [
    {
     "data": {
      "text/plain": [
       "0"
      ]
     },
     "execution_count": 864,
     "metadata": {},
     "output_type": "execute_result"
    }
   ],
   "source": [
    "\n",
    "train.loc[((train.LotShape == 'Reg') & (train.LotFrontage.isnull())),['LotFrontage']] = df.Reg\n",
    "train.loc[((train.LotShape == 'IR1') & (train.LotFrontage.isnull())),['LotFrontage']] = df.IR1\n",
    "train.loc[((train.LotShape == 'IR2') & (train.LotFrontage.isnull())),['LotFrontage']] = df.IR2\n",
    "train.loc[((train.LotShape == 'IR3') & (train.LotFrontage.isnull())),['LotFrontage']] = df.IR3\n",
    "\n",
    "train.LotFrontage.isnull().sum()\n",
    "\n",
    "#LotFrontage is handled now"
   ]
  },
  {
   "cell_type": "code",
   "execution_count": 865,
   "metadata": {},
   "outputs": [
    {
     "data": {
      "text/plain": [
       "count      1460.000000\n",
       "mean     180921.195890\n",
       "std       79442.502883\n",
       "min       34900.000000\n",
       "25%      129975.000000\n",
       "50%      163000.000000\n",
       "75%      214000.000000\n",
       "max      755000.000000\n",
       "Name: SalePrice, dtype: float64"
      ]
     },
     "execution_count": 865,
     "metadata": {},
     "output_type": "execute_result"
    }
   ],
   "source": [
    "#Checking for Target variable now\n",
    "train['SalePrice'].describe()\n",
    "#Few records are having way high SalePrice, deleting values more than 0.99 percentile"
   ]
  },
  {
   "cell_type": "code",
   "execution_count": 866,
   "metadata": {},
   "outputs": [
    {
     "data": {
      "image/png": "[encoded data removed]",
      "text/plain": [
       "<Figure size 1440x864 with 1 Axes>"
      ]
     },
     "metadata": {
      "needs_background": "light"
     },
     "output_type": "display_data"
    }
   ],
   "source": [
    "plt.figure(figsize=(20, 12))\n",
    "plt.subplot(3,3,1)\n",
    "sns.boxplot(y = 'SalePrice', data = train)\n",
    "plt.show()"
   ]
  },
  {
   "cell_type": "code",
   "execution_count": 867,
   "metadata": {},
   "outputs": [],
   "source": [
    "train.loc[train.SalePrice > train.SalePrice.quantile(.99)]\n",
    "#Deleting the outliers above 0.99 percentile, deleting 15 records\n",
    "\n",
    "train = train.loc[train.SalePrice < train.SalePrice.quantile(.99)]"
   ]
  },
  {
   "cell_type": "code",
   "execution_count": 868,
   "metadata": {},
   "outputs": [
    {
     "data": {
      "image/png": "[encoded data removed]",
      "text/plain": [
       "<Figure size 1440x864 with 1 Axes>"
      ]
     },
     "metadata": {
      "needs_background": "light"
     },
     "output_type": "display_data"
    }
   ],
   "source": [
    "plt.figure(figsize=(20, 12))\n",
    "plt.subplot(3,3,1)\n",
    "sns.boxplot(y = 'SalePrice', data = train)\n",
    "plt.show()"
   ]
  },
  {
   "cell_type": "code",
   "execution_count": 869,
   "metadata": {},
   "outputs": [
    {
     "data": {
      "text/plain": [
       "<matplotlib.axes._subplots.AxesSubplot at 0x1f1c4057e10>"
      ]
     },
     "execution_count": 869,
     "metadata": {},
     "output_type": "execute_result"
    },
    {
     "data": {
      "image/png": "[encoded data removed]",
      "text/plain": [
       "<Figure size 432x288 with 1 Axes>"
      ]
     },
     "metadata": {
      "needs_background": "light"
     },
     "output_type": "display_data"
    }
   ],
   "source": [
    "sns.distplot(train['SalePrice'], bins=50)\n",
    "#SalePrice is skewed thus checking with log(SalePrice)"
   ]
  },
  {
   "cell_type": "code",
   "execution_count": 870,
   "metadata": {},
   "outputs": [],
   "source": [
    "train['LogSalePrice'] = np.log(train['SalePrice'])"
   ]
  },
  {
   "cell_type": "code",
   "execution_count": 871,
   "metadata": {},
   "outputs": [
    {
     "data": {
      "text/plain": [
       "<matplotlib.axes._subplots.AxesSubplot at 0x1f1c44a4400>"
      ]
     },
     "execution_count": 871,
     "metadata": {},
     "output_type": "execute_result"
    },
    {
     "data": {
      "image/png": "[encoded data removed]",
      "text/plain": [
       "<Figure size 432x288 with 1 Axes>"
      ]
     },
     "metadata": {
      "needs_background": "light"
     },
     "output_type": "display_data"
    }
   ],
   "source": [
    "sns.distplot(train['LogSalePrice'], bins=20)\n",
    "#This looks more normal distribution, going ahead with this derived feature.. column deletion will happen later"
   ]
  },
  {
   "cell_type": "code",
   "execution_count": 872,
   "metadata": {},
   "outputs": [
    {
     "data": {
      "text/plain": [
       "GarageType      5.61\n",
       "GarageYrBlt     5.61\n",
       "GarageFinish    5.61\n",
       "GarageQual      5.61\n",
       "GarageCond      5.61\n",
       "BsmtFinType2    2.63\n",
       "BsmtExposure    2.63\n",
       "BsmtFinType1    2.56\n",
       "BsmtCond        2.56\n",
       "BsmtQual        2.56\n",
       "MasVnrType      0.48\n",
       "MasVnrArea      0.48\n",
       "Electrical      0.07\n",
       "YearBuilt       0.00\n",
       "Exterior2nd     0.00\n",
       "ExterQual       0.00\n",
       "ExterCond       0.00\n",
       "Exterior1st     0.00\n",
       "RoofMatl        0.00\n",
       "Foundation      0.00\n",
       "dtype: float64"
      ]
     },
     "execution_count": 872,
     "metadata": {},
     "output_type": "execute_result"
    }
   ],
   "source": [
    "#Checking further for Null values\n",
    "round(train.isnull().sum()/len(train.index)*100,2).sort_values(ascending=False).head(20)"
   ]
  },
  {
   "cell_type": "code",
   "execution_count": 873,
   "metadata": {},
   "outputs": [],
   "source": [
    "#GarageCars,GarageArea should be enough for information on garage, other garage paramters are not important, deleting those columns\n",
    "\n",
    "columnsToBeDeleted = ['GarageType','GarageYrBlt','GarageFinish','GarageQual','GarageCond']\n",
    "\n",
    "train.drop(columnsToBeDeleted, axis=1, inplace=True)"
   ]
  },
  {
   "cell_type": "code",
   "execution_count": 874,
   "metadata": {},
   "outputs": [
    {
     "data": {
      "text/plain": [
       "BsmtFinType2    38\n",
       "BsmtExposure    38\n",
       "BsmtFinType1    37\n",
       "BsmtCond        37\n",
       "BsmtQual        37\n",
       "MasVnrType       7\n",
       "MasVnrArea       7\n",
       "Electrical       1\n",
       "RoofStyle        0\n",
       "RoofMatl         0\n",
       "Exterior1st      0\n",
       "Exterior2nd      0\n",
       "ExterCond        0\n",
       "ExterQual        0\n",
       "YearBuilt        0\n",
       "Foundation       0\n",
       "BsmtFinSF1       0\n",
       "YearRemodAdd     0\n",
       "LogSalePrice     0\n",
       "BsmtFinSF2       0\n",
       "dtype: int64"
      ]
     },
     "execution_count": 874,
     "metadata": {},
     "output_type": "execute_result"
    }
   ],
   "source": [
    "(train.isnull().sum()).sort_values(ascending=False).head(20)"
   ]
  },
  {
   "cell_type": "code",
   "execution_count": 875,
   "metadata": {},
   "outputs": [
    {
     "data": {
      "text/plain": [
       "BsmtFinType2    38\n",
       "MasVnrType       7\n",
       "MasVnrArea       7\n",
       "Electrical       1\n",
       "ExterQual        0\n",
       "dtype: int64"
      ]
     },
     "execution_count": 875,
     "metadata": {},
     "output_type": "execute_result"
    }
   ],
   "source": [
    "#BsmtFinType2 --> do not look important after checking the feature details, will be deleted\n",
    "\n",
    "train.loc[train.BsmtFinType1.isnull(),['BsmtFinSF1']]\n",
    "#Thus if BsmtFinSF1 is zero then BsmtFinType1 is Null - marking that as NA\n",
    "train.BsmtFinType1.value_counts()\n",
    "\n",
    "train.loc[(train.BsmtFinSF1 == 0),['BsmtFinType1']] = 'NA'\n",
    "train.loc[(train.BsmtFinSF1 == 0),['BsmtExposure']] = 'NA'\n",
    "train.loc[(train.BsmtFinSF1 == 0),['BsmtCond']] = 'NA'\n",
    "train.loc[(train.BsmtFinSF1 == 0),['BsmtQual']] = 'NA'\n",
    "\n",
    "(train.isnull().sum()).sort_values(ascending=False).head()\n",
    "\n"
   ]
  },
  {
   "cell_type": "code",
   "execution_count": 876,
   "metadata": {},
   "outputs": [
    {
     "data": {
      "text/plain": [
       "BsmtFinType2    38\n",
       "Electrical       1\n",
       "ExterQual        0\n",
       "RoofStyle        0\n",
       "RoofMatl         0\n",
       "dtype: int64"
      ]
     },
     "execution_count": 876,
     "metadata": {},
     "output_type": "execute_result"
    }
   ],
   "source": [
    "#Imputing for 6 records\n",
    "train.loc[train.MasVnrType.isnull(),['MasVnrType','MasVnrArea']] = ['None',0]\n",
    "(train.isnull().sum()).sort_values(ascending=False).head()"
   ]
  },
  {
   "cell_type": "code",
   "execution_count": 877,
   "metadata": {},
   "outputs": [],
   "source": [
    "train.Electrical.value_counts()\n",
    "train.Electrical.isnull().sum()\n",
    "\n",
    "#only 1 value is Null, imputing with most probable value\n",
    "train.loc[train.Electrical.isnull(), 'Electrical'] = \"SBrkr\""
   ]
  },
  {
   "cell_type": "code",
   "execution_count": 878,
   "metadata": {},
   "outputs": [
    {
     "data": {
      "text/plain": [
       "BsmtFinType2    38\n",
       "BsmtFinSF2       0\n",
       "YearRemodAdd     0\n",
       "RoofStyle        0\n",
       "RoofMatl         0\n",
       "dtype: int64"
      ]
     },
     "execution_count": 878,
     "metadata": {},
     "output_type": "execute_result"
    }
   ],
   "source": [
    "train.Electrical.value_counts()\n",
    "train.Electrical.isnull().sum()\n",
    "(train.isnull().sum()).sort_values(ascending=False).head()"
   ]
  },
  {
   "cell_type": "markdown",
   "metadata": {},
   "source": [
    "Null values are handled, will check more later on\n",
    "Continuing with EDA and deciding on feature deletion also if not much varaince is covered by the feature"
   ]
  },
  {
   "cell_type": "code",
   "execution_count": 879,
   "metadata": {},
   "outputs": [
    {
     "data": {
      "text/plain": [
       "No    607\n",
       "NA    464\n",
       "Av    172\n",
       "Gd    115\n",
       "Mn     87\n",
       "Name: BsmtExposure, dtype: int64"
      ]
     },
     "execution_count": 879,
     "metadata": {},
     "output_type": "execute_result"
    }
   ],
   "source": [
    "train.BsmtExposure.value_counts()"
   ]
  },
  {
   "cell_type": "code",
   "execution_count": 880,
   "metadata": {},
   "outputs": [
    {
     "data": {
      "text/plain": [
       "20     36.747405\n",
       "60     20.069204\n",
       "50      9.965398\n",
       "120     6.020761\n",
       "30      4.775087\n",
       "160     4.359862\n",
       "70      4.152249\n",
       "80      4.013841\n",
       "90      3.598616\n",
       "190     2.076125\n",
       "85      1.384083\n",
       "75      1.038062\n",
       "45      0.830450\n",
       "180     0.692042\n",
       "40      0.276817\n",
       "Name: MSSubClass, dtype: float64"
      ]
     },
     "execution_count": 880,
     "metadata": {},
     "output_type": "execute_result"
    }
   ],
   "source": [
    "train.MSSubClass.value_counts()*100/len(train.index)"
   ]
  },
  {
   "cell_type": "code",
   "execution_count": 881,
   "metadata": {},
   "outputs": [
    {
     "data": {
      "image/png": "[encoded data removed]",
      "text/plain": [
       "<Figure size 1440x864 with 1 Axes>"
      ]
     },
     "metadata": {
      "needs_background": "light"
     },
     "output_type": "display_data"
    }
   ],
   "source": [
    "plt.figure(figsize=(20, 12))\n",
    "plt.subplot(3,3,1)\n",
    "sns.boxplot(x = 'MSSubClass', y = 'LogSalePrice', data = train)\n",
    "plt.show()\n",
    "#All distributed, not a specific pattern"
   ]
  },
  {
   "cell_type": "code",
   "execution_count": 882,
   "metadata": {},
   "outputs": [
    {
     "data": {
      "text/plain": [
       "1StryNewer         531\n",
       "Others             393\n",
       "2StryNewer         290\n",
       "1_15StryAllAges    144\n",
       "1StryPUD            87\n",
       "Name: MSSubClass, dtype: int64"
      ]
     },
     "execution_count": 882,
     "metadata": {},
     "output_type": "execute_result"
    }
   ],
   "source": [
    "#Clubbing lower % values\n",
    "def MSSubClass(str):\n",
    "    #print(str)\n",
    "    if (str == 20):\n",
    "        return \"1StryNewer\"\n",
    "    elif (str == 60):\n",
    "        return \"2StryNewer\"\n",
    "    elif (str == 50):\n",
    "        return \"1_15StryAllAges\"\n",
    "    elif (str == 120):\n",
    "        return \"1StryPUD\"\n",
    "    else:\n",
    "        return \"Others\"\n",
    "    \n",
    "train.MSSubClass = train.MSSubClass.apply(MSSubClass)\n",
    "train.MSSubClass.value_counts()"
   ]
  },
  {
   "cell_type": "code",
   "execution_count": 883,
   "metadata": {},
   "outputs": [
    {
     "data": {
      "text/plain": [
       "RL        78.685121\n",
       "RM        15.017301\n",
       "Others     6.297578\n",
       "Name: MSZoning, dtype: float64"
      ]
     },
     "execution_count": 883,
     "metadata": {},
     "output_type": "execute_result"
    }
   ],
   "source": [
    "#Grouping lower % values\n",
    "train.MSZoning.value_counts()*100/len(train.index)\n",
    "train['MSZoning'] = train['MSZoning'].apply(lambda x : \"Others\" if ((x == 'FV') or (x== 'RH') or (x == \"C (all)\") )else x)\n",
    "\n",
    "train.MSZoning.value_counts()*100/len(train.index)"
   ]
  },
  {
   "cell_type": "code",
   "execution_count": 884,
   "metadata": {},
   "outputs": [
    {
     "data": {
      "image/png": "[encoded data removed]",
      "text/plain": [
       "<Figure size 1440x864 with 1 Axes>"
      ]
     },
     "metadata": {
      "needs_background": "light"
     },
     "output_type": "display_data"
    }
   ],
   "source": [
    "plt.figure(figsize=(20, 12))\n",
    "plt.subplot(3,3,1)\n",
    "sns.boxplot(y = 'LotArea', data = train)\n",
    "plt.show()\n",
    "#LotArea - Extreme high plot sizes are there and will skew our model, deleting >0.99 percentile records"
   ]
  },
  {
   "cell_type": "code",
   "execution_count": 885,
   "metadata": {},
   "outputs": [
    {
     "data": {
      "text/plain": [
       "count      1445.000000\n",
       "mean      10423.696886\n",
       "std        9929.978538\n",
       "min        1300.000000\n",
       "25%        7500.000000\n",
       "50%        9430.000000\n",
       "75%       11478.000000\n",
       "max      215245.000000\n",
       "Name: LotArea, dtype: float64"
      ]
     },
     "execution_count": 885,
     "metadata": {},
     "output_type": "execute_result"
    }
   ],
   "source": [
    "train.LotArea.describe()"
   ]
  },
  {
   "cell_type": "code",
   "execution_count": 886,
   "metadata": {},
   "outputs": [],
   "source": [
    "train[train.LotArea > train.LotArea.quantile(0.99)]['LotArea']\n",
    "#There are extreme outliers, skewing the data, removing those few cases which are more than 0.99 percentile\n",
    "train = train[train.LotArea < train.LotArea.quantile(0.99)]"
   ]
  },
  {
   "cell_type": "code",
   "execution_count": 887,
   "metadata": {},
   "outputs": [
    {
     "data": {
      "text/plain": [
       "count     1430.000000\n",
       "mean      9686.606993\n",
       "std       4095.444118\n",
       "min       1300.000000\n",
       "25%       7500.000000\n",
       "50%       9375.000000\n",
       "75%      11407.750000\n",
       "max      35133.000000\n",
       "Name: LotArea, dtype: float64"
      ]
     },
     "execution_count": 887,
     "metadata": {},
     "output_type": "execute_result"
    }
   ],
   "source": [
    "train.LotArea.describe()"
   ]
  },
  {
   "cell_type": "code",
   "execution_count": 888,
   "metadata": {},
   "outputs": [
    {
     "data": {
      "text/plain": [
       "Pave    99.65035\n",
       "Grvl     0.34965\n",
       "Name: Street, dtype: float64"
      ]
     },
     "execution_count": 888,
     "metadata": {},
     "output_type": "execute_result"
    }
   ],
   "source": [
    "train.Street.value_counts()*100/len(train.index)\n",
    "#To delete, no variance"
   ]
  },
  {
   "cell_type": "code",
   "execution_count": 889,
   "metadata": {},
   "outputs": [
    {
     "data": {
      "text/plain": [
       "Reg    64.335664\n",
       "IR1    32.727273\n",
       "IR2     2.377622\n",
       "IR3     0.559441\n",
       "Name: LotShape, dtype: float64"
      ]
     },
     "execution_count": 889,
     "metadata": {},
     "output_type": "execute_result"
    }
   ],
   "source": [
    "train.LotShape.value_counts()*100/len(train.index)\n"
   ]
  },
  {
   "cell_type": "code",
   "execution_count": 890,
   "metadata": {},
   "outputs": [
    {
     "data": {
      "text/plain": [
       "Lvl    90.629371\n",
       "Bnk     4.125874\n",
       "HLS     3.356643\n",
       "Low     1.888112\n",
       "Name: LandContour, dtype: float64"
      ]
     },
     "execution_count": 890,
     "metadata": {},
     "output_type": "execute_result"
    }
   ],
   "source": [
    "train.LandContour.value_counts()*100/len(train.index)\n",
    "#Almost 90% LvL, To delete, no variance"
   ]
  },
  {
   "cell_type": "code",
   "execution_count": 891,
   "metadata": {},
   "outputs": [
    {
     "data": {
      "text/plain": [
       "AllPub    99.93007\n",
       "NoSeWa     0.06993\n",
       "Name: Utilities, dtype: float64"
      ]
     },
     "execution_count": 891,
     "metadata": {},
     "output_type": "execute_result"
    }
   ],
   "source": [
    "train.Utilities.value_counts()*100/len(train.index)\n",
    "#To delete, no variance"
   ]
  },
  {
   "cell_type": "code",
   "execution_count": 892,
   "metadata": {},
   "outputs": [
    {
     "data": {
      "text/plain": [
       "Inside    72.447552\n",
       "Corner    17.972028\n",
       "Others     9.580420\n",
       "Name: LotConfig, dtype: float64"
      ]
     },
     "execution_count": 892,
     "metadata": {},
     "output_type": "execute_result"
    }
   ],
   "source": [
    "#LotConfig\n",
    "train.LotConfig.value_counts()*100/len(train.index)\n",
    "train['LotConfig'] = train['LotConfig'].apply(lambda x : \"Others\" if ((x == 'CulDSac') or (x== 'FR2') or (x == \"FR3\") )else x)\n",
    "train.LotConfig.value_counts()*100/len(train.index)"
   ]
  },
  {
   "cell_type": "code",
   "execution_count": 893,
   "metadata": {},
   "outputs": [
    {
     "data": {
      "text/plain": [
       "Gtl    95.314685\n",
       "Mod     4.195804\n",
       "Sev     0.489510\n",
       "Name: LandSlope, dtype: float64"
      ]
     },
     "execution_count": 893,
     "metadata": {},
     "output_type": "execute_result"
    }
   ],
   "source": [
    "train.LandSlope.value_counts()*100/len(train.index)\n",
    "#To delete, no variance - 94% Gtl type"
   ]
  },
  {
   "cell_type": "code",
   "execution_count": 894,
   "metadata": {},
   "outputs": [
    {
     "data": {
      "text/plain": [
       "NAmes      15.734266\n",
       "CollgCr    10.489510\n",
       "OldTown     7.832168\n",
       "Edwards     6.853147\n",
       "Somerst     6.013986\n",
       "Gilbert     5.524476\n",
       "Sawyer      5.174825\n",
       "NWAmes      5.104895\n",
       "NridgHt     4.895105\n",
       "SawyerW     4.125874\n",
       "BrkSide     4.055944\n",
       "Crawfor     3.566434\n",
       "Mitchel     3.426573\n",
       "IDOTRR      2.587413\n",
       "NoRidge     2.517483\n",
       "Timber      2.447552\n",
       "SWISU       1.748252\n",
       "StoneBr     1.538462\n",
       "ClearCr     1.398601\n",
       "Blmngtn     1.188811\n",
       "MeadowV     1.188811\n",
       "BrDale      1.118881\n",
       "Veenker     0.699301\n",
       "NPkVill     0.629371\n",
       "Blueste     0.139860\n",
       "Name: Neighborhood, dtype: float64"
      ]
     },
     "execution_count": 894,
     "metadata": {},
     "output_type": "execute_result"
    }
   ],
   "source": [
    "\n",
    "train.Neighborhood.value_counts()*100/len(train.index)\n",
    "\n",
    "#Not doing anything as grouping also does not look possible, this is all distributed"
   ]
  },
  {
   "cell_type": "code",
   "execution_count": 895,
   "metadata": {},
   "outputs": [
    {
     "data": {
      "text/plain": [
       "Norm      86.293706\n",
       "Feedr      5.524476\n",
       "Others     4.895105\n",
       "Artery     3.286713\n",
       "Name: Condition1, dtype: float64"
      ]
     },
     "execution_count": 895,
     "metadata": {},
     "output_type": "execute_result"
    }
   ],
   "source": [
    "train.Condition1.value_counts()*100/len(train.index)\n",
    "train['Condition1'] = train['Condition1'].apply(lambda x : x if ((x == 'Norm') or (x== 'Feedr') or (x == \"Artery\") )else \"Others\")\n",
    "train.Condition1.value_counts()*100/len(train.index)"
   ]
  },
  {
   "cell_type": "code",
   "execution_count": 896,
   "metadata": {},
   "outputs": [
    {
     "data": {
      "text/plain": [
       "1Fam      83.286713\n",
       "TwnhsE     7.972028\n",
       "Others     5.104895\n",
       "Duplex     3.636364\n",
       "Name: BldgType, dtype: float64"
      ]
     },
     "execution_count": 896,
     "metadata": {},
     "output_type": "execute_result"
    }
   ],
   "source": [
    "train.BldgType.value_counts()*100/len(train.index)\n",
    "train['BldgType'] = train['BldgType'].apply(lambda x : x if ((x == '1Fam') or (x== 'TwnhsE') or (x == \"Duplex\") )else \"Others\")\n",
    "train.BldgType.value_counts()*100/len(train.index)"
   ]
  },
  {
   "cell_type": "code",
   "execution_count": 897,
   "metadata": {},
   "outputs": [
    {
     "data": {
      "text/plain": [
       "1Story    49.860140\n",
       "2Story    30.209790\n",
       "1.5Fin    10.559441\n",
       "Others     9.370629\n",
       "Name: HouseStyle, dtype: float64"
      ]
     },
     "execution_count": 897,
     "metadata": {},
     "output_type": "execute_result"
    }
   ],
   "source": [
    "\n",
    "train.HouseStyle.value_counts()*100/len(train.index)\n",
    "train['HouseStyle'] = train['HouseStyle'].apply(lambda x : x if ((x == '1Story') or (x== '2Story') or (x == \"1.5Fin\") )else \"Others\")\n",
    "train.HouseStyle.value_counts()*100/len(train.index)"
   ]
  },
  {
   "cell_type": "code",
   "execution_count": 898,
   "metadata": {},
   "outputs": [
    {
     "data": {
      "image/png": "[encoded data removed]",
      "text/plain": [
       "<Figure size 432x288 with 1 Axes>"
      ]
     },
     "metadata": {
      "needs_background": "light"
     },
     "output_type": "display_data"
    }
   ],
   "source": [
    "quality_pivot = train.pivot_table(index='OverallQual', values='SalePrice', aggfunc=np.median)\n",
    "quality_pivot.plot(kind='bar', color='blue')\n",
    "plt.xlabel('Overall Quality')\n",
    "plt.ylabel('Median Sale Price')\n",
    "plt.xticks(rotation=0)\n",
    "plt.show()\n",
    "\n",
    "#High correlation - high Quality - high price"
   ]
  },
  {
   "cell_type": "code",
   "execution_count": 899,
   "metadata": {},
   "outputs": [
    {
     "data": {
      "image/png": "[encoded data removed]",
      "text/plain": [
       "<Figure size 432x288 with 1 Axes>"
      ]
     },
     "metadata": {
      "needs_background": "light"
     },
     "output_type": "display_data"
    }
   ],
   "source": [
    "condition_pivot = train.pivot_table(index='OverallCond', values='SalePrice', aggfunc=np.median)\n",
    "quality_pivot.plot(kind='bar', color='blue')\n",
    "plt.xlabel('Overall Condition')\n",
    "plt.ylabel('Median Sale Price')\n",
    "plt.xticks(rotation=0)\n",
    "plt.show()\n",
    "\n",
    "#High correlation - Excellent Condition - high price"
   ]
  },
  {
   "cell_type": "code",
   "execution_count": 900,
   "metadata": {},
   "outputs": [
    {
     "data": {
      "text/plain": [
       "<matplotlib.axes._subplots.AxesSubplot at 0x1f1d0c0b4e0>"
      ]
     },
     "execution_count": 900,
     "metadata": {},
     "output_type": "execute_result"
    },
    {
     "data": {
      "image/png": "[encoded data removed]",
      "text/plain": [
       "<Figure size 432x288 with 1 Axes>"
      ]
     },
     "metadata": {
      "needs_background": "light"
     },
     "output_type": "display_data"
    }
   ],
   "source": [
    "#Finding out Age of the property and this derived feature will be used further\n",
    "train.YearBuilt.unique()\n",
    "\n",
    "train['buildingAge'] = 2019-train.YearBuilt\n",
    "\n",
    "sns.distplot(train['buildingAge'], bins=50)\n"
   ]
  },
  {
   "cell_type": "code",
   "execution_count": 901,
   "metadata": {},
   "outputs": [
    {
     "data": {
      "image/png": "[encoded data removed]",
      "text/plain": [
       "<Figure size 1440x864 with 1 Axes>"
      ]
     },
     "metadata": {
      "needs_background": "light"
     },
     "output_type": "display_data"
    }
   ],
   "source": [
    "plt.figure(figsize=(20, 12))\n",
    "plt.subplot(3,3,1)\n",
    "sns.boxplot(y = 'buildingAge', data = train)\n",
    "plt.show()"
   ]
  },
  {
   "cell_type": "code",
   "execution_count": 902,
   "metadata": {},
   "outputs": [
    {
     "data": {
      "text/plain": [
       "count    1406.000000\n",
       "mean       46.613087\n",
       "std        28.500253\n",
       "min         9.000000\n",
       "25%        19.000000\n",
       "50%        46.000000\n",
       "75%        65.000000\n",
       "max       115.000000\n",
       "Name: buildingAge, dtype: float64"
      ]
     },
     "execution_count": 902,
     "metadata": {},
     "output_type": "execute_result"
    }
   ],
   "source": [
    "train.buildingAge.describe()\n",
    "train.loc[train.buildingAge > train.buildingAge.quantile(.99)]['buildingAge'].count()\n",
    "#Deleting the outliers above 0.99 percentile, deleting 15 records\n",
    "\n",
    "train = train.loc[train.buildingAge < train.buildingAge.quantile(.99)]\n",
    "train.buildingAge.describe()"
   ]
  },
  {
   "cell_type": "code",
   "execution_count": 903,
   "metadata": {},
   "outputs": [
    {
     "data": {
      "image/png": "[encoded data removed]",
      "text/plain": [
       "<Figure size 1440x864 with 1 Axes>"
      ]
     },
     "metadata": {
      "needs_background": "light"
     },
     "output_type": "display_data"
    }
   ],
   "source": [
    "#Repeating above process for YearRemodAdd, finding out when the propery was last remodelled\n",
    "train.loc[train.YearRemodAdd != train.YearBuilt,['YearBuilt','YearRemodAdd']]\n",
    "\n",
    "#Creating the same bins for YearRemodAdd\n",
    "\n",
    "train['RemodAge'] = 2019-train.YearRemodAdd\n",
    "\n",
    "#sns.distplot(train['RemodAge'], bins=50)\n",
    "\n",
    "#Now columns YearRemodAdd, RemodAge can be dropped\n",
    "\n",
    "plt.figure(figsize=(20, 12))\n",
    "plt.subplot(3,3,1)\n",
    "sns.boxplot(y = 'RemodAge', data = train)\n",
    "plt.show()"
   ]
  },
  {
   "cell_type": "code",
   "execution_count": 904,
   "metadata": {},
   "outputs": [
    {
     "data": {
      "text/plain": [
       "CompShg    98.648649\n",
       "Tar&Grv     0.711238\n",
       "WdShake     0.355619\n",
       "WdShngl     0.142248\n",
       "Metal       0.071124\n",
       "Roll        0.071124\n",
       "Name: RoofMatl, dtype: float64"
      ]
     },
     "execution_count": 904,
     "metadata": {},
     "output_type": "execute_result"
    }
   ],
   "source": [
    "train.RoofMatl.value_counts()*100/len(train.index)\n",
    "#98% CompShg - no variance, feature being deleted"
   ]
  },
  {
   "cell_type": "code",
   "execution_count": 905,
   "metadata": {},
   "outputs": [
    {
     "data": {
      "text/plain": [
       "VinylSd    35.633001\n",
       "Others     19.985775\n",
       "HdBoard    15.504979\n",
       "MetalSd    15.291607\n",
       "Wd Sdng    13.584637\n",
       "Name: Exterior1st, dtype: float64"
      ]
     },
     "execution_count": 905,
     "metadata": {},
     "output_type": "execute_result"
    }
   ],
   "source": [
    "\n",
    "train.Exterior1st.value_counts()*100/len(train.index)\n",
    "\n",
    "train['Exterior1st'] = train['Exterior1st'].apply(lambda x : x if ((x == 'VinylSd') or (x== 'HdBoard') or (x == \"MetalSd\") or (x == 'Wd Sdng') )else \"Others\")\n",
    "train.Exterior1st.value_counts()*100/len(train.index)\n",
    "\n",
    "#Exterior2nd will be deleted"
   ]
  },
  {
   "cell_type": "code",
   "execution_count": 906,
   "metadata": {},
   "outputs": [
    {
     "data": {
      "text/plain": [
       "None       59.459459\n",
       "BrkFace    31.294452\n",
       "Stone       8.321479\n",
       "BrkCmn      0.924609\n",
       "Name: MasVnrType, dtype: float64"
      ]
     },
     "execution_count": 906,
     "metadata": {},
     "output_type": "execute_result"
    }
   ],
   "source": [
    "train.MasVnrType.value_counts()*100/len(train.index)\n",
    "#Deleting MasVnrArea, MasVnrType - Not much meaningfull variation"
   ]
  },
  {
   "cell_type": "code",
   "execution_count": 907,
   "metadata": {},
   "outputs": [
    {
     "data": {
      "text/plain": [
       "TA    62.304410\n",
       "Gd    33.997155\n",
       "Ex     2.702703\n",
       "Fa     0.995733\n",
       "Name: ExterQual, dtype: float64"
      ]
     },
     "execution_count": 907,
     "metadata": {},
     "output_type": "execute_result"
    }
   ],
   "source": [
    "train.ExterQual.value_counts()*100/len(train.index)"
   ]
  },
  {
   "cell_type": "code",
   "execution_count": 908,
   "metadata": {},
   "outputs": [
    {
     "data": {
      "text/plain": [
       "PConc     44.594595\n",
       "CBlock    44.096728\n",
       "BrkTil     9.174964\n",
       "Others     2.133713\n",
       "Name: Foundation, dtype: float64"
      ]
     },
     "execution_count": 908,
     "metadata": {},
     "output_type": "execute_result"
    }
   ],
   "source": [
    "train.Foundation.value_counts()*100/len(train.index)\n",
    "train['Foundation'] = train['Foundation'].apply(lambda x : x if ((x == 'PConc') or (x== 'CBlock') or (x == \"BrkTil\") )else \"Others\")\n",
    "train.Foundation.value_counts()*100/len(train.index)"
   ]
  },
  {
   "cell_type": "code",
   "execution_count": 909,
   "metadata": {},
   "outputs": [
    {
     "data": {
      "text/plain": [
       "TA    32.574680\n",
       "NA    31.721195\n",
       "Gd    29.943101\n",
       "Ex     5.192034\n",
       "Fa     0.568990\n",
       "Name: BsmtQual, dtype: float64"
      ]
     },
     "execution_count": 909,
     "metadata": {},
     "output_type": "execute_result"
    }
   ],
   "source": [
    "train.BsmtQual.value_counts()*100/len(train.index)"
   ]
  },
  {
   "cell_type": "code",
   "execution_count": 910,
   "metadata": {},
   "outputs": [
    {
     "data": {
      "text/plain": [
       "TA    63.655761\n",
       "NA    31.721195\n",
       "Gd     3.271693\n",
       "Fa     1.280228\n",
       "Po     0.071124\n",
       "Name: BsmtCond, dtype: float64"
      ]
     },
     "execution_count": 910,
     "metadata": {},
     "output_type": "execute_result"
    }
   ],
   "source": [
    "train.BsmtCond.value_counts()*100/len(train.index)"
   ]
  },
  {
   "cell_type": "code",
   "execution_count": 911,
   "metadata": {},
   "outputs": [
    {
     "data": {
      "text/plain": [
       "No    42.674253\n",
       "NA    31.721195\n",
       "Av    12.019915\n",
       "Gd     7.467994\n",
       "Mn     6.116643\n",
       "Name: BsmtExposure, dtype: float64"
      ]
     },
     "execution_count": 911,
     "metadata": {},
     "output_type": "execute_result"
    }
   ],
   "source": [
    "train.BsmtExposure.value_counts()*100/len(train.index)"
   ]
  },
  {
   "cell_type": "code",
   "execution_count": 912,
   "metadata": {},
   "outputs": [
    {
     "data": {
      "text/plain": [
       "NA     31.721195\n",
       "GLQ    28.520626\n",
       "ALQ    15.291607\n",
       "BLQ    10.170697\n",
       "Rec     9.246088\n",
       "LwQ     5.049787\n",
       "Name: BsmtFinType1, dtype: float64"
      ]
     },
     "execution_count": 912,
     "metadata": {},
     "output_type": "execute_result"
    }
   ],
   "source": [
    "train.BsmtFinType1.value_counts()*100/len(train.index)"
   ]
  },
  {
   "cell_type": "code",
   "execution_count": 913,
   "metadata": {},
   "outputs": [
    {
     "data": {
      "image/png": "[encoded data removed]",
      "text/plain": [
       "<Figure size 432x288 with 1 Axes>"
      ]
     },
     "metadata": {
      "needs_background": "light"
     },
     "output_type": "display_data"
    },
    {
     "data": {
      "image/png": "[encoded data removed]",
      "text/plain": [
       "<Figure size 1440x864 with 1 Axes>"
      ]
     },
     "metadata": {
      "needs_background": "light"
     },
     "output_type": "display_data"
    }
   ],
   "source": [
    "#train.BsmtFinSF1.value_counts()\n",
    "sns.distplot(train['BsmtFinSF1'], bins=20)\n",
    "\n",
    "plt.figure(figsize=(20, 12))\n",
    "plt.subplot(3,3,1)\n",
    "sns.boxplot(y = 'BsmtFinSF1', data = train)\n",
    "plt.show()\n",
    "\n",
    "#Around 31% are no basement cases\n",
    "#BsmtFinType2, BsmtFinSF2, BsmtUnfSF will be dropped"
   ]
  },
  {
   "cell_type": "code",
   "execution_count": 914,
   "metadata": {},
   "outputs": [
    {
     "data": {
      "image/png": "[encoded data removed]",
      "text/plain": [
       "<Figure size 1440x864 with 1 Axes>"
      ]
     },
     "metadata": {
      "needs_background": "light"
     },
     "output_type": "display_data"
    }
   ],
   "source": [
    "\n",
    "plt.figure(figsize=(20, 12))\n",
    "plt.subplot(3,3,1)\n",
    "sns.boxplot(y = 'TotalBsmtSF', data = train)\n",
    "plt.show()"
   ]
  },
  {
   "cell_type": "code",
   "execution_count": 915,
   "metadata": {},
   "outputs": [
    {
     "data": {
      "text/plain": [
       "GasA     98.079659\n",
       "GasW      0.995733\n",
       "Grav      0.497866\n",
       "Wall      0.284495\n",
       "Floor     0.071124\n",
       "OthW      0.071124\n",
       "Name: Heating, dtype: float64"
      ]
     },
     "execution_count": 915,
     "metadata": {},
     "output_type": "execute_result"
    }
   ],
   "source": [
    "\n",
    "train.Heating.value_counts()*100/len(train.index)\n",
    "#No variance, will be deleted\n",
    "#HeatingQC will also be deleted"
   ]
  },
  {
   "cell_type": "code",
   "execution_count": 916,
   "metadata": {},
   "outputs": [
    {
     "data": {
      "text/plain": [
       "Y    93.954481\n",
       "N     6.045519\n",
       "Name: CentralAir, dtype: float64"
      ]
     },
     "execution_count": 916,
     "metadata": {},
     "output_type": "execute_result"
    }
   ],
   "source": [
    "\n",
    "train.CentralAir.value_counts()*100/len(train.index)\n",
    "#No variance, will be deleted"
   ]
  },
  {
   "cell_type": "code",
   "execution_count": 917,
   "metadata": {},
   "outputs": [
    {
     "data": {
      "text/plain": [
       "SBrkr    91.465149\n",
       "FuseA     6.330014\n",
       "FuseF     1.920341\n",
       "FuseP     0.213371\n",
       "Mix       0.071124\n",
       "Name: Electrical, dtype: float64"
      ]
     },
     "execution_count": 917,
     "metadata": {},
     "output_type": "execute_result"
    }
   ],
   "source": [
    "\n",
    "train.Electrical.value_counts()*100/len(train.index)\n",
    "#No variance, will be deleted"
   ]
  },
  {
   "cell_type": "code",
   "execution_count": 918,
   "metadata": {},
   "outputs": [
    {
     "data": {
      "image/png": "[encoded data removed]",
      "text/plain": [
       "<Figure size 1440x864 with 1 Axes>"
      ]
     },
     "metadata": {
      "needs_background": "light"
     },
     "output_type": "display_data"
    }
   ],
   "source": [
    "plt.figure(figsize=(20, 12))\n",
    "plt.subplot(3,3,1)\n",
    "sns.boxplot(y = ['1stFlrSF'], data = train)\n",
    "plt.show()"
   ]
  },
  {
   "cell_type": "code",
   "execution_count": 919,
   "metadata": {},
   "outputs": [
    {
     "data": {
      "text/plain": [
       "0    58.890469\n",
       "1    40.327169\n",
       "2     0.711238\n",
       "3     0.071124\n",
       "Name: BsmtFullBath, dtype: float64"
      ]
     },
     "execution_count": 919,
     "metadata": {},
     "output_type": "execute_result"
    }
   ],
   "source": [
    "train.BsmtFullBath.value_counts()*100/len(train.index)"
   ]
  },
  {
   "cell_type": "code",
   "execution_count": 920,
   "metadata": {},
   "outputs": [
    {
     "data": {
      "text/plain": [
       "Typ     93.456615\n",
       "Min2     2.204836\n",
       "Min1     2.062589\n",
       "Maj1     0.995733\n",
       "Mod      0.853485\n",
       "Maj2     0.355619\n",
       "Sev      0.071124\n",
       "Name: Functional, dtype: float64"
      ]
     },
     "execution_count": 920,
     "metadata": {},
     "output_type": "execute_result"
    }
   ],
   "source": [
    "train.Functional.value_counts()*100/len(train.index)\n",
    "#Will be deleted, 93% Typ type, less variance"
   ]
  },
  {
   "cell_type": "code",
   "execution_count": 921,
   "metadata": {},
   "outputs": [
    {
     "data": {
      "text/plain": [
       "2    57.041252\n",
       "1    25.746799\n",
       "3    11.450925\n",
       "0     5.476529\n",
       "4     0.284495\n",
       "Name: GarageCars, dtype: float64"
      ]
     },
     "execution_count": 921,
     "metadata": {},
     "output_type": "execute_result"
    }
   ],
   "source": [
    "train.GarageCars.value_counts()*100/len(train.index)"
   ]
  },
  {
   "cell_type": "code",
   "execution_count": 922,
   "metadata": {},
   "outputs": [
    {
     "data": {
      "image/png": "[encoded data removed]",
      "text/plain": [
       "<Figure size 1440x864 with 1 Axes>"
      ]
     },
     "metadata": {
      "needs_background": "light"
     },
     "output_type": "display_data"
    }
   ],
   "source": [
    "plt.figure(figsize=(20, 12))\n",
    "plt.subplot(3,3,1)\n",
    "sns.boxplot(y = ['GarageArea'], data = train)\n",
    "plt.show()"
   ]
  },
  {
   "cell_type": "code",
   "execution_count": 923,
   "metadata": {},
   "outputs": [
    {
     "data": {
      "text/plain": [
       "Y    92.674253\n",
       "N     5.334282\n",
       "P     1.991465\n",
       "Name: PavedDrive, dtype: float64"
      ]
     },
     "execution_count": 923,
     "metadata": {},
     "output_type": "execute_result"
    }
   ],
   "source": [
    "train.PavedDrive.value_counts()*100/len(train.index)\n",
    "#Will be deleted, 92% Y type, less variance"
   ]
  },
  {
   "cell_type": "code",
   "execution_count": 924,
   "metadata": {},
   "outputs": [],
   "source": [
    "#Categorical variables\n",
    "dummyGen = ['MSSubClass','MSZoning','LotShape','LotConfig','Neighborhood','Condition1','BldgType','Foundation',\n",
    "           'HouseStyle','RoofStyle','Exterior1st','BsmtQual','BsmtCond','BsmtExposure','BsmtFinType1', 'FireplaceQu']"
   ]
  },
  {
   "cell_type": "code",
   "execution_count": 925,
   "metadata": {},
   "outputs": [],
   "source": [
    "#Columns being deleted as one type of value prevails\n",
    "#Sale raleted features are deleted - no visible impact\n",
    "ToBeDropped = ['Street','Utilities', 'LandContour','LandSlope','Condition2', 'YearBuilt','YearRemodAdd','RoofMatl','BsmtFinType2',\n",
    "              'BsmtFinSF2','Heating','BsmtHalfBath','Functional', 'MiscVal','MoSold','YrSold','SaleType','SaleCondition',\n",
    "               'CentralAir','Exterior2nd','MasVnrType','MasVnrArea','BsmtUnfSF','HeatingQC','Electrical','PavedDrive','LandSlope']"
   ]
  },
  {
   "cell_type": "code",
   "execution_count": 926,
   "metadata": {},
   "outputs": [
    {
     "data": {
      "text/plain": [
       "array([2, 3, 0, 1], dtype=int64)"
      ]
     },
     "execution_count": 926,
     "metadata": {},
     "output_type": "execute_result"
    }
   ],
   "source": [
    "# label_encoder object knows how to understand word labels. \n",
    "#Encoding features where Hierarchical values are there\n",
    "label_encoder = preprocessing.LabelEncoder() \n",
    "train['ExterQual'].unique() \n",
    "\n",
    "train['ExterQual']= label_encoder.fit_transform(train['ExterQual']) \n",
    "  \n",
    "train['ExterQual'].unique() "
   ]
  },
  {
   "cell_type": "code",
   "execution_count": 927,
   "metadata": {},
   "outputs": [
    {
     "name": "stdout",
     "output_type": "stream",
     "text": [
      "TA    712\n",
      "Gd    573\n",
      "Ex     83\n",
      "Fa     38\n",
      "Name: KitchenQual, dtype: int64\n"
     ]
    },
    {
     "data": {
      "text/plain": [
       "array([2, 3, 0, 1], dtype=int64)"
      ]
     },
     "execution_count": 927,
     "metadata": {},
     "output_type": "execute_result"
    }
   ],
   "source": [
    "\n",
    "print(train['KitchenQual'].value_counts())\n",
    "train['KitchenQual']= label_encoder.fit_transform(train['KitchenQual']) \n",
    "  \n",
    "train['KitchenQual'].unique() "
   ]
  },
  {
   "cell_type": "code",
   "execution_count": 928,
   "metadata": {},
   "outputs": [
    {
     "name": "stdout",
     "output_type": "stream",
     "text": [
      "TA    1238\n",
      "Gd     138\n",
      "Fa      27\n",
      "Ex       2\n",
      "Po       1\n",
      "Name: ExterCond, dtype: int64\n"
     ]
    },
    {
     "data": {
      "text/plain": [
       "array([4, 2, 1, 3, 0], dtype=int64)"
      ]
     },
     "execution_count": 928,
     "metadata": {},
     "output_type": "execute_result"
    }
   ],
   "source": [
    "print(train['ExterCond'].value_counts())\n",
    "train['ExterCond']= label_encoder.fit_transform(train['ExterCond']) \n",
    "  \n",
    "train['ExterCond'].unique() "
   ]
  },
  {
   "cell_type": "code",
   "execution_count": 929,
   "metadata": {},
   "outputs": [
    {
     "name": "stdout",
     "output_type": "stream",
     "text": [
      "3    876\n",
      "2    478\n",
      "0     38\n",
      "1     14\n",
      "Name: ExterQual, dtype: int64\n"
     ]
    },
    {
     "data": {
      "text/plain": [
       "array([2, 3, 0, 1], dtype=int64)"
      ]
     },
     "execution_count": 929,
     "metadata": {},
     "output_type": "execute_result"
    }
   ],
   "source": [
    "print(train['ExterQual'].value_counts())\n",
    "train['ExterQual']= label_encoder.fit_transform(train['ExterQual']) \n",
    "  \n",
    "train['ExterQual'].unique() "
   ]
  },
  {
   "cell_type": "code",
   "execution_count": 930,
   "metadata": {},
   "outputs": [
    {
     "data": {
      "text/plain": [
       "<matplotlib.axes._subplots.AxesSubplot at 0x1f1d122c358>"
      ]
     },
     "execution_count": 930,
     "metadata": {},
     "output_type": "execute_result"
    },
    {
     "data": {
      "image/png": "[encoded data removed]",
      "text/plain": [
       "<Figure size 432x288 with 1 Axes>"
      ]
     },
     "metadata": {
      "needs_background": "light"
     },
     "output_type": "display_data"
    }
   ],
   "source": [
    "sns.distplot(train['BsmtUnfSF'], bins=20)"
   ]
  },
  {
   "cell_type": "code",
   "execution_count": 931,
   "metadata": {},
   "outputs": [
    {
     "data": {
      "text/plain": [
       "<matplotlib.axes._subplots.AxesSubplot at 0x1f1cae5a518>"
      ]
     },
     "execution_count": 931,
     "metadata": {},
     "output_type": "execute_result"
    },
    {
     "data": {
      "image/png": "[encoded data removed]",
      "text/plain": [
       "<Figure size 432x288 with 1 Axes>"
      ]
     },
     "metadata": {
      "needs_background": "light"
     },
     "output_type": "display_data"
    }
   ],
   "source": [
    "sns.distplot(train['TotalBsmtSF'], bins=20)"
   ]
  },
  {
   "cell_type": "code",
   "execution_count": 932,
   "metadata": {},
   "outputs": [
    {
     "data": {
      "text/plain": [
       "<matplotlib.axes._subplots.AxesSubplot at 0x1f1d097a780>"
      ]
     },
     "execution_count": 932,
     "metadata": {},
     "output_type": "execute_result"
    },
    {
     "data": {
      "image/png": "[encoded data removed]",
      "text/plain": [
       "<Figure size 432x288 with 1 Axes>"
      ]
     },
     "metadata": {
      "needs_background": "light"
     },
     "output_type": "display_data"
    }
   ],
   "source": [
    "sns.distplot(train['1stFlrSF'], bins=20)"
   ]
  },
  {
   "cell_type": "code",
   "execution_count": 933,
   "metadata": {},
   "outputs": [
    {
     "data": {
      "text/plain": [
       "<matplotlib.axes._subplots.AxesSubplot at 0x1f1d0a79dd8>"
      ]
     },
     "execution_count": 933,
     "metadata": {},
     "output_type": "execute_result"
    },
    {
     "data": {
      "image/png": "[encoded data removed]",
      "text/plain": [
       "<Figure size 432x288 with 1 Axes>"
      ]
     },
     "metadata": {
      "needs_background": "light"
     },
     "output_type": "display_data"
    }
   ],
   "source": [
    "sns.distplot(train['2ndFlrSF'], bins=20)"
   ]
  },
  {
   "cell_type": "code",
   "execution_count": 934,
   "metadata": {},
   "outputs": [
    {
     "data": {
      "text/plain": [
       "count    1406.000000\n",
       "mean        5.431010\n",
       "std        46.776251\n",
       "min         0.000000\n",
       "25%         0.000000\n",
       "50%         0.000000\n",
       "75%         0.000000\n",
       "max       528.000000\n",
       "Name: LowQualFinSF, dtype: float64"
      ]
     },
     "execution_count": 934,
     "metadata": {},
     "output_type": "execute_result"
    },
    {
     "data": {
      "image/png": "[encoded data removed]",
      "text/plain": [
       "<Figure size 432x288 with 1 Axes>"
      ]
     },
     "metadata": {
      "needs_background": "light"
     },
     "output_type": "display_data"
    }
   ],
   "source": [
    "sns.distplot(train['LowQualFinSF'], bins=10)\n",
    "train.LowQualFinSF.describe()"
   ]
  },
  {
   "cell_type": "code",
   "execution_count": 935,
   "metadata": {},
   "outputs": [
    {
     "data": {
      "text/plain": [
       "count    1406.00000\n",
       "mean     1483.22404\n",
       "std       475.34529\n",
       "min       334.00000\n",
       "25%      1121.25000\n",
       "50%      1442.00000\n",
       "75%      1739.75000\n",
       "max      3447.00000\n",
       "Name: GrLivArea, dtype: float64"
      ]
     },
     "execution_count": 935,
     "metadata": {},
     "output_type": "execute_result"
    },
    {
     "data": {
      "image/png": "[encoded data removed]",
      "text/plain": [
       "<Figure size 432x288 with 1 Axes>"
      ]
     },
     "metadata": {
      "needs_background": "light"
     },
     "output_type": "display_data"
    }
   ],
   "source": [
    "\n",
    "sns.distplot(train['GrLivArea'], bins=10)\n",
    "train.GrLivArea.describe()"
   ]
  },
  {
   "cell_type": "code",
   "execution_count": 936,
   "metadata": {},
   "outputs": [
    {
     "data": {
      "text/plain": [
       "count    1406.000000\n",
       "mean        0.598862\n",
       "std         0.631193\n",
       "min         0.000000\n",
       "25%         0.000000\n",
       "50%         1.000000\n",
       "75%         1.000000\n",
       "max         3.000000\n",
       "Name: Fireplaces, dtype: float64"
      ]
     },
     "execution_count": 936,
     "metadata": {},
     "output_type": "execute_result"
    },
    {
     "data": {
      "image/png": "[encoded data removed]",
      "text/plain": [
       "<Figure size 432x288 with 1 Axes>"
      ]
     },
     "metadata": {
      "needs_background": "light"
     },
     "output_type": "display_data"
    }
   ],
   "source": [
    "\n",
    "sns.distplot(train['Fireplaces'], bins=10)\n",
    "train.Fireplaces.describe()"
   ]
  },
  {
   "cell_type": "code",
   "execution_count": 937,
   "metadata": {},
   "outputs": [
    {
     "data": {
      "text/plain": [
       "count    1406.000000\n",
       "mean       91.793030\n",
       "std       121.334128\n",
       "min         0.000000\n",
       "25%         0.000000\n",
       "50%         0.000000\n",
       "75%       168.000000\n",
       "max       736.000000\n",
       "Name: WoodDeckSF, dtype: float64"
      ]
     },
     "execution_count": 937,
     "metadata": {},
     "output_type": "execute_result"
    },
    {
     "data": {
      "image/png": "[encoded data removed]",
      "text/plain": [
       "<Figure size 432x288 with 1 Axes>"
      ]
     },
     "metadata": {
      "needs_background": "light"
     },
     "output_type": "display_data"
    }
   ],
   "source": [
    "\n",
    "sns.distplot(train['WoodDeckSF'], bins=10)\n",
    "train.WoodDeckSF.describe()"
   ]
  },
  {
   "cell_type": "code",
   "execution_count": 938,
   "metadata": {},
   "outputs": [],
   "source": [
    "train.drop(ToBeDropped, axis=1, inplace=True)\n",
    "#Features are deleted which are not too relevant"
   ]
  },
  {
   "cell_type": "code",
   "execution_count": 939,
   "metadata": {},
   "outputs": [
    {
     "data": {
      "text/plain": [
       "False"
      ]
     },
     "execution_count": 939,
     "metadata": {},
     "output_type": "execute_result"
    }
   ],
   "source": [
    "train.isnull().values.any()\n",
    "#No Null values now"
   ]
  },
  {
   "cell_type": "code",
   "execution_count": 940,
   "metadata": {},
   "outputs": [
    {
     "data": {
      "text/plain": [
       "[]"
      ]
     },
     "execution_count": 940,
     "metadata": {},
     "output_type": "execute_result"
    }
   ],
   "source": [
    "train.columns[train.isna().any()].tolist()"
   ]
  },
  {
   "cell_type": "code",
   "execution_count": 941,
   "metadata": {},
   "outputs": [
    {
     "name": "stdout",
     "output_type": "stream",
     "text": [
      "<class 'pandas.core.frame.DataFrame'>\n",
      "Int64Index: 1406 entries, 0 to 1459\n",
      "Data columns (total 49 columns):\n",
      "Id               1406 non-null int64\n",
      "MSSubClass       1406 non-null object\n",
      "MSZoning         1406 non-null object\n",
      "LotFrontage      1406 non-null float64\n",
      "LotArea          1406 non-null int64\n",
      "LotShape         1406 non-null object\n",
      "LotConfig        1406 non-null object\n",
      "Neighborhood     1406 non-null object\n",
      "Condition1       1406 non-null object\n",
      "BldgType         1406 non-null object\n",
      "HouseStyle       1406 non-null object\n",
      "OverallQual      1406 non-null int64\n",
      "OverallCond      1406 non-null int64\n",
      "RoofStyle        1406 non-null object\n",
      "Exterior1st      1406 non-null object\n",
      "ExterQual        1406 non-null int64\n",
      "ExterCond        1406 non-null int32\n",
      "Foundation       1406 non-null object\n",
      "BsmtQual         1406 non-null object\n",
      "BsmtCond         1406 non-null object\n",
      "BsmtExposure     1406 non-null object\n",
      "BsmtFinType1     1406 non-null object\n",
      "BsmtFinSF1       1406 non-null int64\n",
      "TotalBsmtSF      1406 non-null int64\n",
      "1stFlrSF         1406 non-null int64\n",
      "2ndFlrSF         1406 non-null int64\n",
      "LowQualFinSF     1406 non-null int64\n",
      "GrLivArea        1406 non-null int64\n",
      "BsmtFullBath     1406 non-null int64\n",
      "FullBath         1406 non-null int64\n",
      "HalfBath         1406 non-null int64\n",
      "BedroomAbvGr     1406 non-null int64\n",
      "KitchenAbvGr     1406 non-null int64\n",
      "KitchenQual      1406 non-null int32\n",
      "TotRmsAbvGrd     1406 non-null int64\n",
      "Fireplaces       1406 non-null int64\n",
      "FireplaceQu      1406 non-null object\n",
      "GarageCars       1406 non-null int64\n",
      "GarageArea       1406 non-null int64\n",
      "WoodDeckSF       1406 non-null int64\n",
      "OpenPorchSF      1406 non-null int64\n",
      "EnclosedPorch    1406 non-null int64\n",
      "3SsnPorch        1406 non-null int64\n",
      "ScreenPorch      1406 non-null int64\n",
      "PoolArea         1406 non-null int64\n",
      "SalePrice        1406 non-null int64\n",
      "LogSalePrice     1406 non-null float64\n",
      "buildingAge      1406 non-null int64\n",
      "RemodAge         1406 non-null int64\n",
      "dtypes: float64(2), int32(2), int64(29), object(16)\n",
      "memory usage: 538.2+ KB\n"
     ]
    }
   ],
   "source": [
    "train.info()\n",
    "#We are left with 49 features and 1459 records\n",
    "#53 records are deleted which were mainly outlier cases"
   ]
  },
  {
   "cell_type": "code",
   "execution_count": 942,
   "metadata": {},
   "outputs": [
    {
     "data": {
      "text/plain": [
       "Index(['Id', 'LotFrontage', 'LotArea', 'OverallQual', 'OverallCond',\n",
       "       'ExterQual', 'BsmtFinSF1', 'TotalBsmtSF', '1stFlrSF', '2ndFlrSF',\n",
       "       'LowQualFinSF', 'GrLivArea', 'BsmtFullBath', 'FullBath', 'HalfBath',\n",
       "       'BedroomAbvGr', 'KitchenAbvGr', 'TotRmsAbvGrd', 'Fireplaces',\n",
       "       'GarageCars', 'GarageArea', 'WoodDeckSF', 'OpenPorchSF',\n",
       "       'EnclosedPorch', '3SsnPorch', 'ScreenPorch', 'PoolArea', 'SalePrice',\n",
       "       'LogSalePrice', 'buildingAge', 'RemodAge'],\n",
       "      dtype='object')"
      ]
     },
     "execution_count": 942,
     "metadata": {},
     "output_type": "execute_result"
    }
   ],
   "source": [
    "# all numeric (float and int) variables in the dataset\n",
    "train_numeric = train.select_dtypes(include=['float64', 'int64'])\n",
    "train_numeric.columns"
   ]
  },
  {
   "cell_type": "code",
   "execution_count": 943,
   "metadata": {},
   "outputs": [
    {
     "data": {
      "text/plain": [
       "Index(['Id', 'LotFrontage', 'LotArea', 'BsmtFinSF1', 'TotalBsmtSF', '1stFlrSF',\n",
       "       '2ndFlrSF', 'LowQualFinSF', 'GrLivArea', 'BsmtFullBath', 'FullBath',\n",
       "       'HalfBath', 'BedroomAbvGr', 'KitchenAbvGr', 'TotRmsAbvGrd',\n",
       "       'Fireplaces', 'GarageCars', 'GarageArea', 'WoodDeckSF', 'OpenPorchSF',\n",
       "       'EnclosedPorch', '3SsnPorch', 'ScreenPorch', 'PoolArea', 'SalePrice',\n",
       "       'LogSalePrice', 'buildingAge', 'RemodAge'],\n",
       "      dtype='object')"
      ]
     },
     "execution_count": 943,
     "metadata": {},
     "output_type": "execute_result"
    }
   ],
   "source": [
    "#These 3 columns are encoded\n",
    "train_numeric.drop(['OverallQual','OverallCond','ExterQual'],axis=1, inplace=True)\n",
    "train_numeric.columns"
   ]
  },
  {
   "cell_type": "code",
   "execution_count": 944,
   "metadata": {},
   "outputs": [
    {
     "name": "stdout",
     "output_type": "stream",
     "text": [
      "<class 'pandas.core.frame.DataFrame'>\n",
      "Int64Index: 1406 entries, 0 to 1459\n",
      "Data columns (total 49 columns):\n",
      "Id               1406 non-null int64\n",
      "MSSubClass       1406 non-null object\n",
      "MSZoning         1406 non-null object\n",
      "LotFrontage      1406 non-null float64\n",
      "LotArea          1406 non-null int64\n",
      "LotShape         1406 non-null object\n",
      "LotConfig        1406 non-null object\n",
      "Neighborhood     1406 non-null object\n",
      "Condition1       1406 non-null object\n",
      "BldgType         1406 non-null object\n",
      "HouseStyle       1406 non-null object\n",
      "OverallQual      1406 non-null int64\n",
      "OverallCond      1406 non-null int64\n",
      "RoofStyle        1406 non-null object\n",
      "Exterior1st      1406 non-null object\n",
      "ExterQual        1406 non-null int64\n",
      "ExterCond        1406 non-null int32\n",
      "Foundation       1406 non-null object\n",
      "BsmtQual         1406 non-null object\n",
      "BsmtCond         1406 non-null object\n",
      "BsmtExposure     1406 non-null object\n",
      "BsmtFinType1     1406 non-null object\n",
      "BsmtFinSF1       1406 non-null int64\n",
      "TotalBsmtSF      1406 non-null int64\n",
      "1stFlrSF         1406 non-null int64\n",
      "2ndFlrSF         1406 non-null int64\n",
      "LowQualFinSF     1406 non-null int64\n",
      "GrLivArea        1406 non-null int64\n",
      "BsmtFullBath     1406 non-null int64\n",
      "FullBath         1406 non-null int64\n",
      "HalfBath         1406 non-null int64\n",
      "BedroomAbvGr     1406 non-null int64\n",
      "KitchenAbvGr     1406 non-null int64\n",
      "KitchenQual      1406 non-null int32\n",
      "TotRmsAbvGrd     1406 non-null int64\n",
      "Fireplaces       1406 non-null int64\n",
      "FireplaceQu      1406 non-null object\n",
      "GarageCars       1406 non-null int64\n",
      "GarageArea       1406 non-null int64\n",
      "WoodDeckSF       1406 non-null int64\n",
      "OpenPorchSF      1406 non-null int64\n",
      "EnclosedPorch    1406 non-null int64\n",
      "3SsnPorch        1406 non-null int64\n",
      "ScreenPorch      1406 non-null int64\n",
      "PoolArea         1406 non-null int64\n",
      "SalePrice        1406 non-null int64\n",
      "LogSalePrice     1406 non-null float64\n",
      "buildingAge      1406 non-null int64\n",
      "RemodAge         1406 non-null int64\n",
      "dtypes: float64(2), int32(2), int64(29), object(16)\n",
      "memory usage: 538.2+ KB\n"
     ]
    }
   ],
   "source": [
    "train.info()"
   ]
  },
  {
   "cell_type": "code",
   "execution_count": 945,
   "metadata": {},
   "outputs": [
    {
     "data": {
      "text/plain": [
       "<Figure size 1440x720 with 0 Axes>"
      ]
     },
     "execution_count": 945,
     "metadata": {},
     "output_type": "execute_result"
    },
    {
     "data": {
      "text/plain": [
       "<Figure size 1440x720 with 0 Axes>"
      ]
     },
     "metadata": {},
     "output_type": "display_data"
    }
   ],
   "source": [
    "plt.figure(figsize=(20, 10))\n",
    "#sns.pairplot(train_numeric)\n",
    "#plt.show()\n",
    "#Pairplot and Heatmap can be checked here, but file takes too long to run as number of features are too high"
   ]
  },
  {
   "cell_type": "code",
   "execution_count": 946,
   "metadata": {},
   "outputs": [
    {
     "data": {
      "text/plain": [
       "<Figure size 1440x1152 with 0 Axes>"
      ]
     },
     "execution_count": 946,
     "metadata": {},
     "output_type": "execute_result"
    },
    {
     "data": {
      "text/plain": [
       "<Figure size 1440x1152 with 0 Axes>"
      ]
     },
     "metadata": {},
     "output_type": "display_data"
    }
   ],
   "source": [
    "plt.figure(figsize = (20, 16))\n",
    "#sns.heatmap(train_numeric.corr(), annot = True, cmap=\"YlGnBu\")\n",
    "#plt.show()"
   ]
  },
  {
   "cell_type": "code",
   "execution_count": 947,
   "metadata": {},
   "outputs": [],
   "source": [
    "#DF is clean now, go ahead with dummy variable generation\n",
    "\n",
    "# Creating a dummy variable for some of the categorical variables and dropping the first one.\n",
    "dummy1 = pd.get_dummies(train[dummyGen], drop_first=True)\n",
    "\n",
    "# Adding the results to the master dataframe\n",
    "\n",
    "train = pd.concat([train, dummy1], axis=1)"
   ]
  },
  {
   "cell_type": "code",
   "execution_count": 948,
   "metadata": {},
   "outputs": [
    {
     "name": "stdout",
     "output_type": "stream",
     "text": [
      "<class 'pandas.core.frame.DataFrame'>\n",
      "Int64Index: 1406 entries, 0 to 1459\n",
      "Columns: 111 entries, Id to FireplaceQu_TA\n",
      "dtypes: float64(2), int32(2), int64(29), uint8(78)\n",
      "memory usage: 469.6 KB\n"
     ]
    }
   ],
   "source": [
    "train.drop(dummyGen, axis=1, inplace=True)\n",
    "train.info()"
   ]
  },
  {
   "cell_type": "code",
   "execution_count": 949,
   "metadata": {},
   "outputs": [
    {
     "data": {
      "text/html": [
       "<div>\n",
       "<style scoped>\n",
       "    .dataframe tbody tr th:only-of-type {\n",
       "        vertical-align: middle;\n",
       "    }\n",
       "\n",
       "    .dataframe tbody tr th {\n",
       "        vertical-align: top;\n",
       "    }\n",
       "\n",
       "    .dataframe thead th {\n",
       "        text-align: right;\n",
       "    }\n",
       "</style>\n",
       "<table border=\"1\" class=\"dataframe\">\n",
       "  <thead>\n",
       "    <tr style=\"text-align: right;\">\n",
       "      <th></th>\n",
       "      <th>Id</th>\n",
       "      <th>LotFrontage</th>\n",
       "      <th>LotArea</th>\n",
       "      <th>OverallQual</th>\n",
       "      <th>OverallCond</th>\n",
       "      <th>ExterQual</th>\n",
       "      <th>ExterCond</th>\n",
       "      <th>BsmtFinSF1</th>\n",
       "      <th>TotalBsmtSF</th>\n",
       "      <th>1stFlrSF</th>\n",
       "      <th>...</th>\n",
       "      <th>BsmtFinType1_BLQ</th>\n",
       "      <th>BsmtFinType1_GLQ</th>\n",
       "      <th>BsmtFinType1_LwQ</th>\n",
       "      <th>BsmtFinType1_NA</th>\n",
       "      <th>BsmtFinType1_Rec</th>\n",
       "      <th>FireplaceQu_Fa</th>\n",
       "      <th>FireplaceQu_Gd</th>\n",
       "      <th>FireplaceQu_NA</th>\n",
       "      <th>FireplaceQu_Po</th>\n",
       "      <th>FireplaceQu_TA</th>\n",
       "    </tr>\n",
       "  </thead>\n",
       "  <tbody>\n",
       "    <tr>\n",
       "      <th>0</th>\n",
       "      <td>1</td>\n",
       "      <td>65.0</td>\n",
       "      <td>8450</td>\n",
       "      <td>7</td>\n",
       "      <td>5</td>\n",
       "      <td>2</td>\n",
       "      <td>4</td>\n",
       "      <td>706</td>\n",
       "      <td>856</td>\n",
       "      <td>856</td>\n",
       "      <td>...</td>\n",
       "      <td>0</td>\n",
       "      <td>1</td>\n",
       "      <td>0</td>\n",
       "      <td>0</td>\n",
       "      <td>0</td>\n",
       "      <td>0</td>\n",
       "      <td>0</td>\n",
       "      <td>1</td>\n",
       "      <td>0</td>\n",
       "      <td>0</td>\n",
       "    </tr>\n",
       "    <tr>\n",
       "      <th>1</th>\n",
       "      <td>2</td>\n",
       "      <td>80.0</td>\n",
       "      <td>9600</td>\n",
       "      <td>6</td>\n",
       "      <td>8</td>\n",
       "      <td>3</td>\n",
       "      <td>4</td>\n",
       "      <td>978</td>\n",
       "      <td>1262</td>\n",
       "      <td>1262</td>\n",
       "      <td>...</td>\n",
       "      <td>0</td>\n",
       "      <td>0</td>\n",
       "      <td>0</td>\n",
       "      <td>0</td>\n",
       "      <td>0</td>\n",
       "      <td>0</td>\n",
       "      <td>0</td>\n",
       "      <td>0</td>\n",
       "      <td>0</td>\n",
       "      <td>1</td>\n",
       "    </tr>\n",
       "    <tr>\n",
       "      <th>2</th>\n",
       "      <td>3</td>\n",
       "      <td>68.0</td>\n",
       "      <td>11250</td>\n",
       "      <td>7</td>\n",
       "      <td>5</td>\n",
       "      <td>2</td>\n",
       "      <td>4</td>\n",
       "      <td>486</td>\n",
       "      <td>920</td>\n",
       "      <td>920</td>\n",
       "      <td>...</td>\n",
       "      <td>0</td>\n",
       "      <td>1</td>\n",
       "      <td>0</td>\n",
       "      <td>0</td>\n",
       "      <td>0</td>\n",
       "      <td>0</td>\n",
       "      <td>0</td>\n",
       "      <td>0</td>\n",
       "      <td>0</td>\n",
       "      <td>1</td>\n",
       "    </tr>\n",
       "    <tr>\n",
       "      <th>3</th>\n",
       "      <td>4</td>\n",
       "      <td>60.0</td>\n",
       "      <td>9550</td>\n",
       "      <td>7</td>\n",
       "      <td>5</td>\n",
       "      <td>3</td>\n",
       "      <td>4</td>\n",
       "      <td>216</td>\n",
       "      <td>756</td>\n",
       "      <td>961</td>\n",
       "      <td>...</td>\n",
       "      <td>0</td>\n",
       "      <td>0</td>\n",
       "      <td>0</td>\n",
       "      <td>0</td>\n",
       "      <td>0</td>\n",
       "      <td>0</td>\n",
       "      <td>1</td>\n",
       "      <td>0</td>\n",
       "      <td>0</td>\n",
       "      <td>0</td>\n",
       "    </tr>\n",
       "    <tr>\n",
       "      <th>4</th>\n",
       "      <td>5</td>\n",
       "      <td>84.0</td>\n",
       "      <td>14260</td>\n",
       "      <td>8</td>\n",
       "      <td>5</td>\n",
       "      <td>2</td>\n",
       "      <td>4</td>\n",
       "      <td>655</td>\n",
       "      <td>1145</td>\n",
       "      <td>1145</td>\n",
       "      <td>...</td>\n",
       "      <td>0</td>\n",
       "      <td>1</td>\n",
       "      <td>0</td>\n",
       "      <td>0</td>\n",
       "      <td>0</td>\n",
       "      <td>0</td>\n",
       "      <td>0</td>\n",
       "      <td>0</td>\n",
       "      <td>0</td>\n",
       "      <td>1</td>\n",
       "    </tr>\n",
       "  </tbody>\n",
       "</table>\n",
       "<p>5 rows × 111 columns</p>\n",
       "</div>"
      ],
      "text/plain": [
       "   Id  LotFrontage  LotArea  OverallQual  OverallCond  ExterQual  ExterCond  \\\n",
       "0   1         65.0     8450            7            5          2          4   \n",
       "1   2         80.0     9600            6            8          3          4   \n",
       "2   3         68.0    11250            7            5          2          4   \n",
       "3   4         60.0     9550            7            5          3          4   \n",
       "4   5         84.0    14260            8            5          2          4   \n",
       "\n",
       "   BsmtFinSF1  TotalBsmtSF  1stFlrSF       ...        BsmtFinType1_BLQ  \\\n",
       "0         706          856       856       ...                       0   \n",
       "1         978         1262      1262       ...                       0   \n",
       "2         486          920       920       ...                       0   \n",
       "3         216          756       961       ...                       0   \n",
       "4         655         1145      1145       ...                       0   \n",
       "\n",
       "   BsmtFinType1_GLQ  BsmtFinType1_LwQ  BsmtFinType1_NA  BsmtFinType1_Rec  \\\n",
       "0                 1                 0                0                 0   \n",
       "1                 0                 0                0                 0   \n",
       "2                 1                 0                0                 0   \n",
       "3                 0                 0                0                 0   \n",
       "4                 1                 0                0                 0   \n",
       "\n",
       "   FireplaceQu_Fa  FireplaceQu_Gd  FireplaceQu_NA  FireplaceQu_Po  \\\n",
       "0               0               0               1               0   \n",
       "1               0               0               0               0   \n",
       "2               0               0               0               0   \n",
       "3               0               1               0               0   \n",
       "4               0               0               0               0   \n",
       "\n",
       "   FireplaceQu_TA  \n",
       "0               0  \n",
       "1               1  \n",
       "2               1  \n",
       "3               0  \n",
       "4               1  \n",
       "\n",
       "[5 rows x 111 columns]"
      ]
     },
     "execution_count": 949,
     "metadata": {},
     "output_type": "execute_result"
    }
   ],
   "source": [
    "train.head()"
   ]
  },
  {
   "cell_type": "code",
   "execution_count": 950,
   "metadata": {},
   "outputs": [],
   "source": [
    "#x & y split\n",
    "y = train['LogSalePrice']\n",
    "\n",
    "#Dropping id and SalePrice from train\n",
    "train.drop(['Id', 'LogSalePrice','SalePrice'], axis=1, inplace=True)\n",
    "\n",
    "X = train"
   ]
  },
  {
   "cell_type": "code",
   "execution_count": 951,
   "metadata": {},
   "outputs": [
    {
     "data": {
      "text/html": [
       "<div>\n",
       "<style scoped>\n",
       "    .dataframe tbody tr th:only-of-type {\n",
       "        vertical-align: middle;\n",
       "    }\n",
       "\n",
       "    .dataframe tbody tr th {\n",
       "        vertical-align: top;\n",
       "    }\n",
       "\n",
       "    .dataframe thead th {\n",
       "        text-align: right;\n",
       "    }\n",
       "</style>\n",
       "<table border=\"1\" class=\"dataframe\">\n",
       "  <thead>\n",
       "    <tr style=\"text-align: right;\">\n",
       "      <th></th>\n",
       "      <th>LotFrontage</th>\n",
       "      <th>LotArea</th>\n",
       "      <th>OverallQual</th>\n",
       "      <th>OverallCond</th>\n",
       "      <th>ExterQual</th>\n",
       "      <th>ExterCond</th>\n",
       "      <th>BsmtFinSF1</th>\n",
       "      <th>TotalBsmtSF</th>\n",
       "      <th>1stFlrSF</th>\n",
       "      <th>2ndFlrSF</th>\n",
       "      <th>...</th>\n",
       "      <th>BsmtFinType1_BLQ</th>\n",
       "      <th>BsmtFinType1_GLQ</th>\n",
       "      <th>BsmtFinType1_LwQ</th>\n",
       "      <th>BsmtFinType1_NA</th>\n",
       "      <th>BsmtFinType1_Rec</th>\n",
       "      <th>FireplaceQu_Fa</th>\n",
       "      <th>FireplaceQu_Gd</th>\n",
       "      <th>FireplaceQu_NA</th>\n",
       "      <th>FireplaceQu_Po</th>\n",
       "      <th>FireplaceQu_TA</th>\n",
       "    </tr>\n",
       "  </thead>\n",
       "  <tbody>\n",
       "    <tr>\n",
       "      <th>0</th>\n",
       "      <td>65.0</td>\n",
       "      <td>8450</td>\n",
       "      <td>7</td>\n",
       "      <td>5</td>\n",
       "      <td>2</td>\n",
       "      <td>4</td>\n",
       "      <td>706</td>\n",
       "      <td>856</td>\n",
       "      <td>856</td>\n",
       "      <td>854</td>\n",
       "      <td>...</td>\n",
       "      <td>0</td>\n",
       "      <td>1</td>\n",
       "      <td>0</td>\n",
       "      <td>0</td>\n",
       "      <td>0</td>\n",
       "      <td>0</td>\n",
       "      <td>0</td>\n",
       "      <td>1</td>\n",
       "      <td>0</td>\n",
       "      <td>0</td>\n",
       "    </tr>\n",
       "    <tr>\n",
       "      <th>1</th>\n",
       "      <td>80.0</td>\n",
       "      <td>9600</td>\n",
       "      <td>6</td>\n",
       "      <td>8</td>\n",
       "      <td>3</td>\n",
       "      <td>4</td>\n",
       "      <td>978</td>\n",
       "      <td>1262</td>\n",
       "      <td>1262</td>\n",
       "      <td>0</td>\n",
       "      <td>...</td>\n",
       "      <td>0</td>\n",
       "      <td>0</td>\n",
       "      <td>0</td>\n",
       "      <td>0</td>\n",
       "      <td>0</td>\n",
       "      <td>0</td>\n",
       "      <td>0</td>\n",
       "      <td>0</td>\n",
       "      <td>0</td>\n",
       "      <td>1</td>\n",
       "    </tr>\n",
       "    <tr>\n",
       "      <th>2</th>\n",
       "      <td>68.0</td>\n",
       "      <td>11250</td>\n",
       "      <td>7</td>\n",
       "      <td>5</td>\n",
       "      <td>2</td>\n",
       "      <td>4</td>\n",
       "      <td>486</td>\n",
       "      <td>920</td>\n",
       "      <td>920</td>\n",
       "      <td>866</td>\n",
       "      <td>...</td>\n",
       "      <td>0</td>\n",
       "      <td>1</td>\n",
       "      <td>0</td>\n",
       "      <td>0</td>\n",
       "      <td>0</td>\n",
       "      <td>0</td>\n",
       "      <td>0</td>\n",
       "      <td>0</td>\n",
       "      <td>0</td>\n",
       "      <td>1</td>\n",
       "    </tr>\n",
       "    <tr>\n",
       "      <th>3</th>\n",
       "      <td>60.0</td>\n",
       "      <td>9550</td>\n",
       "      <td>7</td>\n",
       "      <td>5</td>\n",
       "      <td>3</td>\n",
       "      <td>4</td>\n",
       "      <td>216</td>\n",
       "      <td>756</td>\n",
       "      <td>961</td>\n",
       "      <td>756</td>\n",
       "      <td>...</td>\n",
       "      <td>0</td>\n",
       "      <td>0</td>\n",
       "      <td>0</td>\n",
       "      <td>0</td>\n",
       "      <td>0</td>\n",
       "      <td>0</td>\n",
       "      <td>1</td>\n",
       "      <td>0</td>\n",
       "      <td>0</td>\n",
       "      <td>0</td>\n",
       "    </tr>\n",
       "    <tr>\n",
       "      <th>4</th>\n",
       "      <td>84.0</td>\n",
       "      <td>14260</td>\n",
       "      <td>8</td>\n",
       "      <td>5</td>\n",
       "      <td>2</td>\n",
       "      <td>4</td>\n",
       "      <td>655</td>\n",
       "      <td>1145</td>\n",
       "      <td>1145</td>\n",
       "      <td>1053</td>\n",
       "      <td>...</td>\n",
       "      <td>0</td>\n",
       "      <td>1</td>\n",
       "      <td>0</td>\n",
       "      <td>0</td>\n",
       "      <td>0</td>\n",
       "      <td>0</td>\n",
       "      <td>0</td>\n",
       "      <td>0</td>\n",
       "      <td>0</td>\n",
       "      <td>1</td>\n",
       "    </tr>\n",
       "  </tbody>\n",
       "</table>\n",
       "<p>5 rows × 108 columns</p>\n",
       "</div>"
      ],
      "text/plain": [
       "   LotFrontage  LotArea  OverallQual  OverallCond  ExterQual  ExterCond  \\\n",
       "0         65.0     8450            7            5          2          4   \n",
       "1         80.0     9600            6            8          3          4   \n",
       "2         68.0    11250            7            5          2          4   \n",
       "3         60.0     9550            7            5          3          4   \n",
       "4         84.0    14260            8            5          2          4   \n",
       "\n",
       "   BsmtFinSF1  TotalBsmtSF  1stFlrSF  2ndFlrSF       ...        \\\n",
       "0         706          856       856       854       ...         \n",
       "1         978         1262      1262         0       ...         \n",
       "2         486          920       920       866       ...         \n",
       "3         216          756       961       756       ...         \n",
       "4         655         1145      1145      1053       ...         \n",
       "\n",
       "   BsmtFinType1_BLQ  BsmtFinType1_GLQ  BsmtFinType1_LwQ  BsmtFinType1_NA  \\\n",
       "0                 0                 1                 0                0   \n",
       "1                 0                 0                 0                0   \n",
       "2                 0                 1                 0                0   \n",
       "3                 0                 0                 0                0   \n",
       "4                 0                 1                 0                0   \n",
       "\n",
       "   BsmtFinType1_Rec  FireplaceQu_Fa  FireplaceQu_Gd  FireplaceQu_NA  \\\n",
       "0                 0               0               0               1   \n",
       "1                 0               0               0               0   \n",
       "2                 0               0               0               0   \n",
       "3                 0               0               1               0   \n",
       "4                 0               0               0               0   \n",
       "\n",
       "   FireplaceQu_Po  FireplaceQu_TA  \n",
       "0               0               0  \n",
       "1               0               1  \n",
       "2               0               1  \n",
       "3               0               0  \n",
       "4               0               1  \n",
       "\n",
       "[5 rows x 108 columns]"
      ]
     },
     "execution_count": 951,
     "metadata": {},
     "output_type": "execute_result"
    }
   ],
   "source": [
    "train.head()"
   ]
  },
  {
   "cell_type": "code",
   "execution_count": 952,
   "metadata": {},
   "outputs": [
    {
     "data": {
      "text/plain": [
       "Index(['LotFrontage', 'LotArea', 'OverallQual', 'OverallCond', 'ExterQual',\n",
       "       'ExterCond', 'BsmtFinSF1', 'TotalBsmtSF', '1stFlrSF', '2ndFlrSF',\n",
       "       ...\n",
       "       'BsmtFinType1_BLQ', 'BsmtFinType1_GLQ', 'BsmtFinType1_LwQ',\n",
       "       'BsmtFinType1_NA', 'BsmtFinType1_Rec', 'FireplaceQu_Fa',\n",
       "       'FireplaceQu_Gd', 'FireplaceQu_NA', 'FireplaceQu_Po', 'FireplaceQu_TA'],\n",
       "      dtype='object', length=108)"
      ]
     },
     "execution_count": 952,
     "metadata": {},
     "output_type": "execute_result"
    }
   ],
   "source": [
    "# scaling the features\n",
    "from sklearn.preprocessing import scale\n",
    "\n",
    "# storing column names in cols, since column names are (annoyingly) lost after \n",
    "# scaling (the df is converted to a numpy array)\n",
    "cols = X.columns\n",
    "X = pd.DataFrame(scale(X))\n",
    "X.columns = cols\n",
    "X.columns"
   ]
  },
  {
   "cell_type": "code",
   "execution_count": 953,
   "metadata": {},
   "outputs": [
    {
     "data": {
      "text/plain": [
       "Index(['LotFrontage', 'LotArea', 'OverallQual', 'OverallCond', 'ExterQual',\n",
       "       'ExterCond'],\n",
       "      dtype='object')"
      ]
     },
     "execution_count": 953,
     "metadata": {},
     "output_type": "execute_result"
    }
   ],
   "source": [
    "X.columns[:6]"
   ]
  },
  {
   "cell_type": "code",
   "execution_count": 954,
   "metadata": {},
   "outputs": [
    {
     "data": {
      "text/html": [
       "<div>\n",
       "<style scoped>\n",
       "    .dataframe tbody tr th:only-of-type {\n",
       "        vertical-align: middle;\n",
       "    }\n",
       "\n",
       "    .dataframe tbody tr th {\n",
       "        vertical-align: top;\n",
       "    }\n",
       "\n",
       "    .dataframe thead th {\n",
       "        text-align: right;\n",
       "    }\n",
       "</style>\n",
       "<table border=\"1\" class=\"dataframe\">\n",
       "  <thead>\n",
       "    <tr style=\"text-align: right;\">\n",
       "      <th></th>\n",
       "      <th>LotFrontage</th>\n",
       "      <th>LotArea</th>\n",
       "      <th>OverallQual</th>\n",
       "      <th>OverallCond</th>\n",
       "      <th>ExterQual</th>\n",
       "      <th>ExterCond</th>\n",
       "      <th>BsmtFinSF1</th>\n",
       "      <th>TotalBsmtSF</th>\n",
       "      <th>1stFlrSF</th>\n",
       "      <th>2ndFlrSF</th>\n",
       "      <th>...</th>\n",
       "      <th>BsmtFinType1_BLQ</th>\n",
       "      <th>BsmtFinType1_GLQ</th>\n",
       "      <th>BsmtFinType1_LwQ</th>\n",
       "      <th>BsmtFinType1_NA</th>\n",
       "      <th>BsmtFinType1_Rec</th>\n",
       "      <th>FireplaceQu_Fa</th>\n",
       "      <th>FireplaceQu_Gd</th>\n",
       "      <th>FireplaceQu_NA</th>\n",
       "      <th>FireplaceQu_Po</th>\n",
       "      <th>FireplaceQu_TA</th>\n",
       "    </tr>\n",
       "  </thead>\n",
       "  <tbody>\n",
       "    <tr>\n",
       "      <th>0</th>\n",
       "      <td>-0.431787</td>\n",
       "      <td>-0.299443</td>\n",
       "      <td>0.701239</td>\n",
       "      <td>-0.516627</td>\n",
       "      <td>-0.853916</td>\n",
       "      <td>0.360593</td>\n",
       "      <td>0.656290</td>\n",
       "      <td>-0.462721</td>\n",
       "      <td>-0.802205</td>\n",
       "      <td>1.232503</td>\n",
       "      <td>...</td>\n",
       "      <td>-0.336485</td>\n",
       "      <td>1.583109</td>\n",
       "      <td>-0.230616</td>\n",
       "      <td>-0.681604</td>\n",
       "      <td>-0.319188</td>\n",
       "      <td>-0.15261</td>\n",
       "      <td>-0.584468</td>\n",
       "      <td>1.046604</td>\n",
       "      <td>-0.117041</td>\n",
       "      <td>-0.525226</td>\n",
       "    </tr>\n",
       "    <tr>\n",
       "      <th>1</th>\n",
       "      <td>-0.428736</td>\n",
       "      <td>-0.019414</td>\n",
       "      <td>-0.050241</td>\n",
       "      <td>2.231335</td>\n",
       "      <td>0.673573</td>\n",
       "      <td>0.360593</td>\n",
       "      <td>1.305965</td>\n",
       "      <td>0.551599</td>\n",
       "      <td>0.322996</td>\n",
       "      <td>-0.785197</td>\n",
       "      <td>...</td>\n",
       "      <td>-0.336485</td>\n",
       "      <td>-0.631668</td>\n",
       "      <td>-0.230616</td>\n",
       "      <td>-0.681604</td>\n",
       "      <td>-0.319188</td>\n",
       "      <td>-0.15261</td>\n",
       "      <td>-0.584468</td>\n",
       "      <td>-0.955471</td>\n",
       "      <td>-0.117041</td>\n",
       "      <td>1.903943</td>\n",
       "    </tr>\n",
       "    <tr>\n",
       "      <th>2</th>\n",
       "      <td>-0.431177</td>\n",
       "      <td>0.382366</td>\n",
       "      <td>0.701239</td>\n",
       "      <td>-0.516627</td>\n",
       "      <td>-0.853916</td>\n",
       "      <td>0.360593</td>\n",
       "      <td>0.130818</td>\n",
       "      <td>-0.302829</td>\n",
       "      <td>-0.624833</td>\n",
       "      <td>1.260855</td>\n",
       "      <td>...</td>\n",
       "      <td>-0.336485</td>\n",
       "      <td>1.583109</td>\n",
       "      <td>-0.230616</td>\n",
       "      <td>-0.681604</td>\n",
       "      <td>-0.319188</td>\n",
       "      <td>-0.15261</td>\n",
       "      <td>-0.584468</td>\n",
       "      <td>-0.955471</td>\n",
       "      <td>-0.117041</td>\n",
       "      <td>1.903943</td>\n",
       "    </tr>\n",
       "    <tr>\n",
       "      <th>3</th>\n",
       "      <td>-0.432804</td>\n",
       "      <td>-0.031590</td>\n",
       "      <td>0.701239</td>\n",
       "      <td>-0.516627</td>\n",
       "      <td>0.673573</td>\n",
       "      <td>0.360593</td>\n",
       "      <td>-0.514080</td>\n",
       "      <td>-0.712554</td>\n",
       "      <td>-0.511205</td>\n",
       "      <td>1.000964</td>\n",
       "      <td>...</td>\n",
       "      <td>-0.336485</td>\n",
       "      <td>-0.631668</td>\n",
       "      <td>-0.230616</td>\n",
       "      <td>-0.681604</td>\n",
       "      <td>-0.319188</td>\n",
       "      <td>-0.15261</td>\n",
       "      <td>1.710957</td>\n",
       "      <td>-0.955471</td>\n",
       "      <td>-0.117041</td>\n",
       "      <td>-0.525226</td>\n",
       "    </tr>\n",
       "    <tr>\n",
       "      <th>4</th>\n",
       "      <td>-0.427922</td>\n",
       "      <td>1.115312</td>\n",
       "      <td>1.452720</td>\n",
       "      <td>-0.516627</td>\n",
       "      <td>-0.853916</td>\n",
       "      <td>0.360593</td>\n",
       "      <td>0.534476</td>\n",
       "      <td>0.259295</td>\n",
       "      <td>-0.001262</td>\n",
       "      <td>1.702669</td>\n",
       "      <td>...</td>\n",
       "      <td>-0.336485</td>\n",
       "      <td>1.583109</td>\n",
       "      <td>-0.230616</td>\n",
       "      <td>-0.681604</td>\n",
       "      <td>-0.319188</td>\n",
       "      <td>-0.15261</td>\n",
       "      <td>-0.584468</td>\n",
       "      <td>-0.955471</td>\n",
       "      <td>-0.117041</td>\n",
       "      <td>1.903943</td>\n",
       "    </tr>\n",
       "  </tbody>\n",
       "</table>\n",
       "<p>5 rows × 108 columns</p>\n",
       "</div>"
      ],
      "text/plain": [
       "   LotFrontage   LotArea  OverallQual  OverallCond  ExterQual  ExterCond  \\\n",
       "0    -0.431787 -0.299443     0.701239    -0.516627  -0.853916   0.360593   \n",
       "1    -0.428736 -0.019414    -0.050241     2.231335   0.673573   0.360593   \n",
       "2    -0.431177  0.382366     0.701239    -0.516627  -0.853916   0.360593   \n",
       "3    -0.432804 -0.031590     0.701239    -0.516627   0.673573   0.360593   \n",
       "4    -0.427922  1.115312     1.452720    -0.516627  -0.853916   0.360593   \n",
       "\n",
       "   BsmtFinSF1  TotalBsmtSF  1stFlrSF  2ndFlrSF       ...        \\\n",
       "0    0.656290    -0.462721 -0.802205  1.232503       ...         \n",
       "1    1.305965     0.551599  0.322996 -0.785197       ...         \n",
       "2    0.130818    -0.302829 -0.624833  1.260855       ...         \n",
       "3   -0.514080    -0.712554 -0.511205  1.000964       ...         \n",
       "4    0.534476     0.259295 -0.001262  1.702669       ...         \n",
       "\n",
       "   BsmtFinType1_BLQ  BsmtFinType1_GLQ  BsmtFinType1_LwQ  BsmtFinType1_NA  \\\n",
       "0         -0.336485          1.583109         -0.230616        -0.681604   \n",
       "1         -0.336485         -0.631668         -0.230616        -0.681604   \n",
       "2         -0.336485          1.583109         -0.230616        -0.681604   \n",
       "3         -0.336485         -0.631668         -0.230616        -0.681604   \n",
       "4         -0.336485          1.583109         -0.230616        -0.681604   \n",
       "\n",
       "   BsmtFinType1_Rec  FireplaceQu_Fa  FireplaceQu_Gd  FireplaceQu_NA  \\\n",
       "0         -0.319188        -0.15261       -0.584468        1.046604   \n",
       "1         -0.319188        -0.15261       -0.584468       -0.955471   \n",
       "2         -0.319188        -0.15261       -0.584468       -0.955471   \n",
       "3         -0.319188        -0.15261        1.710957       -0.955471   \n",
       "4         -0.319188        -0.15261       -0.584468       -0.955471   \n",
       "\n",
       "   FireplaceQu_Po  FireplaceQu_TA  \n",
       "0       -0.117041       -0.525226  \n",
       "1       -0.117041        1.903943  \n",
       "2       -0.117041        1.903943  \n",
       "3       -0.117041       -0.525226  \n",
       "4       -0.117041        1.903943  \n",
       "\n",
       "[5 rows x 108 columns]"
      ]
     },
     "execution_count": 954,
     "metadata": {},
     "output_type": "execute_result"
    }
   ],
   "source": [
    "X.head()"
   ]
  },
  {
   "cell_type": "code",
   "execution_count": 955,
   "metadata": {},
   "outputs": [],
   "source": [
    "# split into train and test\n",
    "from sklearn.model_selection import train_test_split\n",
    "X_train, X_test, y_train, y_test = train_test_split(X, y, \n",
    "                                                    train_size=0.7,\n",
    "                                                    test_size = 0.3, random_state=100)"
   ]
  },
  {
   "cell_type": "code",
   "execution_count": 956,
   "metadata": {},
   "outputs": [],
   "source": [
    "#Applying RFE with target as 50 important features"
   ]
  },
  {
   "cell_type": "code",
   "execution_count": 957,
   "metadata": {},
   "outputs": [],
   "source": [
    "lm = LinearRegression()\n",
    "lm.fit(X_train, y_train)\n",
    "\n",
    "rfe = RFE(lm, 50)             # running RFE\n",
    "rfe = rfe.fit(X_train, y_train)"
   ]
  },
  {
   "cell_type": "code",
   "execution_count": 958,
   "metadata": {},
   "outputs": [
    {
     "data": {
      "text/plain": [
       "[('LotFrontage', False, 31),\n",
       " ('LotArea', True, 1),\n",
       " ('OverallQual', True, 1),\n",
       " ('OverallCond', True, 1),\n",
       " ('ExterQual', False, 51),\n",
       " ('ExterCond', False, 11),\n",
       " ('BsmtFinSF1', True, 1),\n",
       " ('TotalBsmtSF', True, 1),\n",
       " ('1stFlrSF', True, 1),\n",
       " ('2ndFlrSF', True, 1),\n",
       " ('LowQualFinSF', True, 1),\n",
       " ('GrLivArea', True, 1),\n",
       " ('BsmtFullBath', True, 1),\n",
       " ('FullBath', False, 16),\n",
       " ('HalfBath', False, 34),\n",
       " ('BedroomAbvGr', False, 50),\n",
       " ('KitchenAbvGr', False, 42),\n",
       " ('KitchenQual', True, 1),\n",
       " ('TotRmsAbvGrd', False, 10),\n",
       " ('Fireplaces', False, 19),\n",
       " ('GarageCars', True, 1),\n",
       " ('GarageArea', True, 1),\n",
       " ('WoodDeckSF', False, 4),\n",
       " ('OpenPorchSF', False, 2),\n",
       " ('EnclosedPorch', False, 3),\n",
       " ('3SsnPorch', False, 20),\n",
       " ('ScreenPorch', True, 1),\n",
       " ('PoolArea', False, 18),\n",
       " ('buildingAge', True, 1),\n",
       " ('RemodAge', True, 1),\n",
       " ('MSSubClass_1StryPUD', True, 1),\n",
       " ('MSSubClass_1_15StryAllAges', True, 1),\n",
       " ('MSSubClass_2StryNewer', True, 1),\n",
       " ('MSSubClass_Others', True, 1),\n",
       " ('MSZoning_RL', True, 1),\n",
       " ('MSZoning_RM', False, 55),\n",
       " ('LotShape_IR2', False, 35),\n",
       " ('LotShape_IR3', False, 38),\n",
       " ('LotShape_Reg', False, 53),\n",
       " ('LotConfig_Inside', False, 22),\n",
       " ('LotConfig_Others', False, 36),\n",
       " ('Neighborhood_Blueste', False, 52),\n",
       " ('Neighborhood_BrDale', True, 1),\n",
       " ('Neighborhood_BrkSide', False, 9),\n",
       " ('Neighborhood_ClearCr', False, 17),\n",
       " ('Neighborhood_CollgCr', False, 24),\n",
       " ('Neighborhood_Crawfor', True, 1),\n",
       " ('Neighborhood_Edwards', True, 1),\n",
       " ('Neighborhood_Gilbert', False, 27),\n",
       " ('Neighborhood_IDOTRR', True, 1),\n",
       " ('Neighborhood_MeadowV', True, 1),\n",
       " ('Neighborhood_Mitchel', True, 1),\n",
       " ('Neighborhood_NAmes', False, 43),\n",
       " ('Neighborhood_NPkVill', False, 49),\n",
       " ('Neighborhood_NWAmes', False, 45),\n",
       " ('Neighborhood_NoRidge', False, 8),\n",
       " ('Neighborhood_NridgHt', True, 1),\n",
       " ('Neighborhood_OldTown', True, 1),\n",
       " ('Neighborhood_SWISU', False, 7),\n",
       " ('Neighborhood_Sawyer', False, 46),\n",
       " ('Neighborhood_SawyerW', False, 26),\n",
       " ('Neighborhood_Somerst', True, 1),\n",
       " ('Neighborhood_StoneBr', True, 1),\n",
       " ('Neighborhood_Timber', False, 25),\n",
       " ('Neighborhood_Veenker', False, 13),\n",
       " ('Condition1_Feedr', False, 15),\n",
       " ('Condition1_Norm', True, 1),\n",
       " ('Condition1_Others', False, 14),\n",
       " ('BldgType_Duplex', True, 1),\n",
       " ('BldgType_Others', True, 1),\n",
       " ('BldgType_TwnhsE', True, 1),\n",
       " ('Foundation_CBlock', False, 6),\n",
       " ('Foundation_Others', False, 48),\n",
       " ('Foundation_PConc', True, 1),\n",
       " ('HouseStyle_1Story', True, 1),\n",
       " ('HouseStyle_2Story', False, 32),\n",
       " ('HouseStyle_Others', False, 12),\n",
       " ('RoofStyle_Gable', False, 30),\n",
       " ('RoofStyle_Gambrel', False, 37),\n",
       " ('RoofStyle_Hip', False, 28),\n",
       " ('RoofStyle_Mansard', False, 39),\n",
       " ('RoofStyle_Shed', False, 23),\n",
       " ('Exterior1st_MetalSd', True, 1),\n",
       " ('Exterior1st_Others', True, 1),\n",
       " ('Exterior1st_VinylSd', True, 1),\n",
       " ('Exterior1st_Wd Sdng', False, 57),\n",
       " ('BsmtQual_Fa', False, 21),\n",
       " ('BsmtQual_Gd', True, 1),\n",
       " ('BsmtQual_NA', True, 1),\n",
       " ('BsmtQual_TA', True, 1),\n",
       " ('BsmtCond_Gd', False, 5),\n",
       " ('BsmtCond_NA', True, 1),\n",
       " ('BsmtCond_Po', False, 29),\n",
       " ('BsmtCond_TA', True, 1),\n",
       " ('BsmtExposure_Gd', True, 1),\n",
       " ('BsmtExposure_Mn', False, 54),\n",
       " ('BsmtExposure_NA', True, 1),\n",
       " ('BsmtExposure_No', False, 58),\n",
       " ('BsmtFinType1_BLQ', False, 56),\n",
       " ('BsmtFinType1_GLQ', False, 33),\n",
       " ('BsmtFinType1_LwQ', False, 44),\n",
       " ('BsmtFinType1_NA', True, 1),\n",
       " ('BsmtFinType1_Rec', False, 47),\n",
       " ('FireplaceQu_Fa', False, 59),\n",
       " ('FireplaceQu_Gd', True, 1),\n",
       " ('FireplaceQu_NA', True, 1),\n",
       " ('FireplaceQu_Po', False, 41),\n",
       " ('FireplaceQu_TA', False, 40)]"
      ]
     },
     "execution_count": 958,
     "metadata": {},
     "output_type": "execute_result"
    }
   ],
   "source": [
    "list(zip(X_train.columns,rfe.support_,rfe.ranking_))"
   ]
  },
  {
   "cell_type": "code",
   "execution_count": 959,
   "metadata": {},
   "outputs": [
    {
     "data": {
      "text/plain": [
       "Index(['LotArea', 'OverallQual', 'OverallCond', 'BsmtFinSF1', 'TotalBsmtSF',\n",
       "       '1stFlrSF', '2ndFlrSF', 'LowQualFinSF', 'GrLivArea', 'BsmtFullBath',\n",
       "       'KitchenQual', 'GarageCars', 'GarageArea', 'ScreenPorch', 'buildingAge',\n",
       "       'RemodAge', 'MSSubClass_1StryPUD', 'MSSubClass_1_15StryAllAges',\n",
       "       'MSSubClass_2StryNewer', 'MSSubClass_Others', 'MSZoning_RL',\n",
       "       'Neighborhood_BrDale', 'Neighborhood_Crawfor', 'Neighborhood_Edwards',\n",
       "       'Neighborhood_IDOTRR', 'Neighborhood_MeadowV', 'Neighborhood_Mitchel',\n",
       "       'Neighborhood_NridgHt', 'Neighborhood_OldTown', 'Neighborhood_Somerst',\n",
       "       'Neighborhood_StoneBr', 'Condition1_Norm', 'BldgType_Duplex',\n",
       "       'BldgType_Others', 'BldgType_TwnhsE', 'Foundation_PConc',\n",
       "       'HouseStyle_1Story', 'Exterior1st_MetalSd', 'Exterior1st_Others',\n",
       "       'Exterior1st_VinylSd', 'BsmtQual_Gd', 'BsmtQual_NA', 'BsmtQual_TA',\n",
       "       'BsmtCond_NA', 'BsmtCond_TA', 'BsmtExposure_Gd', 'BsmtExposure_NA',\n",
       "       'BsmtFinType1_NA', 'FireplaceQu_Gd', 'FireplaceQu_NA'],\n",
       "      dtype='object')"
      ]
     },
     "execution_count": 959,
     "metadata": {},
     "output_type": "execute_result"
    }
   ],
   "source": [
    "#Columns selected by using RFE - \n",
    "col = X_train.columns[rfe.support_]\n",
    "col"
   ]
  },
  {
   "cell_type": "code",
   "execution_count": 960,
   "metadata": {},
   "outputs": [],
   "source": [
    "# Creating X_train and X_test dataframe with RFE selected variables\n",
    "X_train_rfe = X_train[col]\n",
    "X_test_rfe = X_test[col]"
   ]
  },
  {
   "cell_type": "markdown",
   "metadata": {},
   "source": [
    "##### Regularization - Lasso"
   ]
  },
  {
   "cell_type": "code",
   "execution_count": 961,
   "metadata": {},
   "outputs": [],
   "source": [
    "# list of alphas to tune\n",
    "params = {'alpha': [0.0001, 0.0002, 0.0003, 0.0004, 0.0005, 0.0006,0.0007, 0.0008, 0.0009, 0.001 ]}\n",
    "# cross validation\n",
    "folds = 5"
   ]
  },
  {
   "cell_type": "code",
   "execution_count": 962,
   "metadata": {},
   "outputs": [
    {
     "name": "stdout",
     "output_type": "stream",
     "text": [
      "Fitting 5 folds for each of 10 candidates, totalling 50 fits\n"
     ]
    },
    {
     "name": "stderr",
     "output_type": "stream",
     "text": [
      "[Parallel(n_jobs=1)]: Using backend SequentialBackend with 1 concurrent workers.\n",
      "[Parallel(n_jobs=1)]: Done  50 out of  50 | elapsed:    1.1s finished\n"
     ]
    },
    {
     "data": {
      "text/plain": [
       "GridSearchCV(cv=5, error_score='raise-deprecating',\n",
       "       estimator=Lasso(alpha=1.0, copy_X=True, fit_intercept=True, max_iter=1000,\n",
       "   normalize=False, positive=False, precompute=False, random_state=None,\n",
       "   selection='cyclic', tol=0.0001, warm_start=False),\n",
       "       fit_params=None, iid='warn', n_jobs=None,\n",
       "       param_grid={'alpha': [0.0001, 0.0002, 0.0003, 0.0004, 0.0005, 0.0006, 0.0007, 0.0008, 0.0009, 0.001]},\n",
       "       pre_dispatch='2*n_jobs', refit=True, return_train_score=True,\n",
       "       scoring='neg_mean_absolute_error', verbose=1)"
      ]
     },
     "execution_count": 962,
     "metadata": {},
     "output_type": "execute_result"
    }
   ],
   "source": [
    "lasso = Lasso()\n",
    "\n",
    "# cross validation\n",
    "model_cv = GridSearchCV(estimator = lasso, \n",
    "                        param_grid = params, \n",
    "                        scoring= 'neg_mean_absolute_error', \n",
    "                        cv = folds, \n",
    "                        return_train_score=True,\n",
    "                        verbose = 1)            \n",
    "\n",
    "model_cv.fit(X_train_rfe, y_train) "
   ]
  },
  {
   "cell_type": "code",
   "execution_count": 963,
   "metadata": {},
   "outputs": [
    {
     "data": {
      "text/html": [
       "<div>\n",
       "<style scoped>\n",
       "    .dataframe tbody tr th:only-of-type {\n",
       "        vertical-align: middle;\n",
       "    }\n",
       "\n",
       "    .dataframe tbody tr th {\n",
       "        vertical-align: top;\n",
       "    }\n",
       "\n",
       "    .dataframe thead th {\n",
       "        text-align: right;\n",
       "    }\n",
       "</style>\n",
       "<table border=\"1\" class=\"dataframe\">\n",
       "  <thead>\n",
       "    <tr style=\"text-align: right;\">\n",
       "      <th></th>\n",
       "      <th>mean_fit_time</th>\n",
       "      <th>std_fit_time</th>\n",
       "      <th>mean_score_time</th>\n",
       "      <th>std_score_time</th>\n",
       "      <th>param_alpha</th>\n",
       "      <th>params</th>\n",
       "      <th>split0_test_score</th>\n",
       "      <th>split1_test_score</th>\n",
       "      <th>split2_test_score</th>\n",
       "      <th>split3_test_score</th>\n",
       "      <th>...</th>\n",
       "      <th>mean_test_score</th>\n",
       "      <th>std_test_score</th>\n",
       "      <th>rank_test_score</th>\n",
       "      <th>split0_train_score</th>\n",
       "      <th>split1_train_score</th>\n",
       "      <th>split2_train_score</th>\n",
       "      <th>split3_train_score</th>\n",
       "      <th>split4_train_score</th>\n",
       "      <th>mean_train_score</th>\n",
       "      <th>std_train_score</th>\n",
       "    </tr>\n",
       "  </thead>\n",
       "  <tbody>\n",
       "    <tr>\n",
       "      <th>0</th>\n",
       "      <td>0.048006</td>\n",
       "      <td>0.002645</td>\n",
       "      <td>0.001599</td>\n",
       "      <td>0.000489</td>\n",
       "      <td>0.0001</td>\n",
       "      <td>{'alpha': 0.0001}</td>\n",
       "      <td>-0.079342</td>\n",
       "      <td>-0.075392</td>\n",
       "      <td>-0.077939</td>\n",
       "      <td>-0.075347</td>\n",
       "      <td>...</td>\n",
       "      <td>-0.077238</td>\n",
       "      <td>0.001599</td>\n",
       "      <td>10</td>\n",
       "      <td>-0.072230</td>\n",
       "      <td>-0.072695</td>\n",
       "      <td>-0.071408</td>\n",
       "      <td>-0.072476</td>\n",
       "      <td>-0.071833</td>\n",
       "      <td>-0.072128</td>\n",
       "      <td>0.000460</td>\n",
       "    </tr>\n",
       "    <tr>\n",
       "      <th>1</th>\n",
       "      <td>0.037778</td>\n",
       "      <td>0.005597</td>\n",
       "      <td>0.001799</td>\n",
       "      <td>0.000400</td>\n",
       "      <td>0.0002</td>\n",
       "      <td>{'alpha': 0.0002}</td>\n",
       "      <td>-0.079252</td>\n",
       "      <td>-0.075469</td>\n",
       "      <td>-0.078019</td>\n",
       "      <td>-0.075104</td>\n",
       "      <td>...</td>\n",
       "      <td>-0.077167</td>\n",
       "      <td>0.001607</td>\n",
       "      <td>9</td>\n",
       "      <td>-0.072197</td>\n",
       "      <td>-0.072689</td>\n",
       "      <td>-0.071407</td>\n",
       "      <td>-0.072448</td>\n",
       "      <td>-0.071816</td>\n",
       "      <td>-0.072112</td>\n",
       "      <td>0.000456</td>\n",
       "    </tr>\n",
       "    <tr>\n",
       "      <th>2</th>\n",
       "      <td>0.030398</td>\n",
       "      <td>0.004494</td>\n",
       "      <td>0.001197</td>\n",
       "      <td>0.000394</td>\n",
       "      <td>0.0003</td>\n",
       "      <td>{'alpha': 0.0003}</td>\n",
       "      <td>-0.079195</td>\n",
       "      <td>-0.075552</td>\n",
       "      <td>-0.078094</td>\n",
       "      <td>-0.074886</td>\n",
       "      <td>...</td>\n",
       "      <td>-0.077116</td>\n",
       "      <td>0.001628</td>\n",
       "      <td>8</td>\n",
       "      <td>-0.072180</td>\n",
       "      <td>-0.072701</td>\n",
       "      <td>-0.071430</td>\n",
       "      <td>-0.072428</td>\n",
       "      <td>-0.071819</td>\n",
       "      <td>-0.072112</td>\n",
       "      <td>0.000448</td>\n",
       "    </tr>\n",
       "    <tr>\n",
       "      <th>3</th>\n",
       "      <td>0.020189</td>\n",
       "      <td>0.002924</td>\n",
       "      <td>0.001400</td>\n",
       "      <td>0.000489</td>\n",
       "      <td>0.0004</td>\n",
       "      <td>{'alpha': 0.0004}</td>\n",
       "      <td>-0.079125</td>\n",
       "      <td>-0.075638</td>\n",
       "      <td>-0.078200</td>\n",
       "      <td>-0.074684</td>\n",
       "      <td>...</td>\n",
       "      <td>-0.077076</td>\n",
       "      <td>0.001655</td>\n",
       "      <td>4</td>\n",
       "      <td>-0.072172</td>\n",
       "      <td>-0.072729</td>\n",
       "      <td>-0.071470</td>\n",
       "      <td>-0.072417</td>\n",
       "      <td>-0.071843</td>\n",
       "      <td>-0.072126</td>\n",
       "      <td>0.000438</td>\n",
       "    </tr>\n",
       "    <tr>\n",
       "      <th>4</th>\n",
       "      <td>0.017416</td>\n",
       "      <td>0.003019</td>\n",
       "      <td>0.001199</td>\n",
       "      <td>0.000400</td>\n",
       "      <td>0.0005</td>\n",
       "      <td>{'alpha': 0.0005}</td>\n",
       "      <td>-0.079064</td>\n",
       "      <td>-0.075753</td>\n",
       "      <td>-0.078321</td>\n",
       "      <td>-0.074543</td>\n",
       "      <td>...</td>\n",
       "      <td>-0.077071</td>\n",
       "      <td>0.001676</td>\n",
       "      <td>2</td>\n",
       "      <td>-0.072188</td>\n",
       "      <td>-0.072774</td>\n",
       "      <td>-0.071520</td>\n",
       "      <td>-0.072420</td>\n",
       "      <td>-0.071876</td>\n",
       "      <td>-0.072156</td>\n",
       "      <td>0.000433</td>\n",
       "    </tr>\n",
       "  </tbody>\n",
       "</table>\n",
       "<p>5 rows × 21 columns</p>\n",
       "</div>"
      ],
      "text/plain": [
       "   mean_fit_time  std_fit_time  mean_score_time  std_score_time param_alpha  \\\n",
       "0       0.048006      0.002645         0.001599        0.000489      0.0001   \n",
       "1       0.037778      0.005597         0.001799        0.000400      0.0002   \n",
       "2       0.030398      0.004494         0.001197        0.000394      0.0003   \n",
       "3       0.020189      0.002924         0.001400        0.000489      0.0004   \n",
       "4       0.017416      0.003019         0.001199        0.000400      0.0005   \n",
       "\n",
       "              params  split0_test_score  split1_test_score  split2_test_score  \\\n",
       "0  {'alpha': 0.0001}          -0.079342          -0.075392          -0.077939   \n",
       "1  {'alpha': 0.0002}          -0.079252          -0.075469          -0.078019   \n",
       "2  {'alpha': 0.0003}          -0.079195          -0.075552          -0.078094   \n",
       "3  {'alpha': 0.0004}          -0.079125          -0.075638          -0.078200   \n",
       "4  {'alpha': 0.0005}          -0.079064          -0.075753          -0.078321   \n",
       "\n",
       "   split3_test_score       ...         mean_test_score  std_test_score  \\\n",
       "0          -0.075347       ...               -0.077238        0.001599   \n",
       "1          -0.075104       ...               -0.077167        0.001607   \n",
       "2          -0.074886       ...               -0.077116        0.001628   \n",
       "3          -0.074684       ...               -0.077076        0.001655   \n",
       "4          -0.074543       ...               -0.077071        0.001676   \n",
       "\n",
       "   rank_test_score  split0_train_score  split1_train_score  \\\n",
       "0               10           -0.072230           -0.072695   \n",
       "1                9           -0.072197           -0.072689   \n",
       "2                8           -0.072180           -0.072701   \n",
       "3                4           -0.072172           -0.072729   \n",
       "4                2           -0.072188           -0.072774   \n",
       "\n",
       "   split2_train_score  split3_train_score  split4_train_score  \\\n",
       "0           -0.071408           -0.072476           -0.071833   \n",
       "1           -0.071407           -0.072448           -0.071816   \n",
       "2           -0.071430           -0.072428           -0.071819   \n",
       "3           -0.071470           -0.072417           -0.071843   \n",
       "4           -0.071520           -0.072420           -0.071876   \n",
       "\n",
       "   mean_train_score  std_train_score  \n",
       "0         -0.072128         0.000460  \n",
       "1         -0.072112         0.000456  \n",
       "2         -0.072112         0.000448  \n",
       "3         -0.072126         0.000438  \n",
       "4         -0.072156         0.000433  \n",
       "\n",
       "[5 rows x 21 columns]"
      ]
     },
     "execution_count": 963,
     "metadata": {},
     "output_type": "execute_result"
    }
   ],
   "source": [
    "cv_results = pd.DataFrame(model_cv.cv_results_)\n",
    "cv_results.head()"
   ]
  },
  {
   "cell_type": "code",
   "execution_count": 964,
   "metadata": {},
   "outputs": [
    {
     "data": {
      "image/png": "[encoded data removed]",
      "text/plain": [
       "<Figure size 432x288 with 1 Axes>"
      ]
     },
     "metadata": {
      "needs_background": "light"
     },
     "output_type": "display_data"
    }
   ],
   "source": [
    "# plotting mean test and train scoes with alpha \n",
    "cv_results['param_alpha'] = cv_results['param_alpha'].astype('float32')\n",
    "\n",
    "# plotting\n",
    "plt.plot(cv_results['param_alpha'], cv_results['mean_train_score'])\n",
    "plt.plot(cv_results['param_alpha'], cv_results['mean_test_score'])\n",
    "plt.xlabel('alpha')\n",
    "plt.ylabel('Negative Mean Absolute Error')\n",
    "\n",
    "plt.title(\"Negative Mean Absolute Error and alpha\")\n",
    "plt.legend(['train score', 'test score'], loc='upper left')\n",
    "plt.show()"
   ]
  },
  {
   "cell_type": "code",
   "execution_count": 965,
   "metadata": {},
   "outputs": [
    {
     "data": {
      "text/plain": [
       "Lasso(alpha=0.0004, copy_X=True, fit_intercept=True, max_iter=1000,\n",
       "   normalize=False, positive=False, precompute=False, random_state=None,\n",
       "   selection='cyclic', tol=0.0001, warm_start=False)"
      ]
     },
     "execution_count": 965,
     "metadata": {},
     "output_type": "execute_result"
    }
   ],
   "source": [
    "#Small hump is seen near 0.0004, thus picking this value\n",
    "alpha =0.0004\n",
    "\n",
    "lasso = Lasso(alpha=alpha)\n",
    "        \n",
    "lasso.fit(X_train_rfe, y_train) "
   ]
  },
  {
   "cell_type": "code",
   "execution_count": 966,
   "metadata": {},
   "outputs": [
    {
     "data": {
      "text/plain": [
       "array([ 2.16670583e-02,  7.48642480e-02,  5.72158424e-02,  2.06042954e-02,\n",
       "        5.11180011e-02,  0.00000000e+00,  1.35678452e-02, -4.84984404e-03,\n",
       "        1.20170492e-01,  1.61764554e-02, -9.34227479e-03,  1.98997657e-02,\n",
       "        1.82934180e-02,  8.92091593e-03, -8.18652216e-02, -9.28165054e-03,\n",
       "        8.58142779e-03, -8.13745951e-03, -1.44912314e-02, -1.12873761e-02,\n",
       "        1.18950643e-02, -9.93181064e-03,  1.77457198e-02, -8.60068532e-03,\n",
       "       -9.73380300e-03, -1.66849882e-02, -9.14569047e-03,  1.23884748e-02,\n",
       "       -1.00619797e-02,  1.68362997e-02,  9.72420956e-03,  1.26028522e-02,\n",
       "       -1.05924687e-02, -1.58017540e-02, -1.18153698e-02,  2.19502433e-02,\n",
       "       -1.80534551e-02,  8.43234695e-03,  1.26964003e-02,  8.35592157e-03,\n",
       "       -2.06219651e-02, -1.02262459e-05, -9.34170289e-03, -3.48362708e-03,\n",
       "        1.84308367e-02,  1.10672996e-02, -4.62207643e-05, -0.00000000e+00,\n",
       "        7.39829339e-03, -1.63205989e-02])"
      ]
     },
     "execution_count": 966,
     "metadata": {},
     "output_type": "execute_result"
    }
   ],
   "source": [
    "lasso.coef_"
   ]
  },
  {
   "cell_type": "code",
   "execution_count": 967,
   "metadata": {},
   "outputs": [
    {
     "data": {
      "text/plain": [
       "GrLivArea                     0.120170\n",
       "OverallQual                   0.074864\n",
       "OverallCond                   0.057216\n",
       "TotalBsmtSF                   0.051118\n",
       "Foundation_PConc              0.021950\n",
       "LotArea                       0.021667\n",
       "BsmtFinSF1                    0.020604\n",
       "GarageCars                    0.019900\n",
       "BsmtCond_TA                   0.018431\n",
       "GarageArea                    0.018293\n",
       "Neighborhood_Crawfor          0.017746\n",
       "Neighborhood_Somerst          0.016836\n",
       "BsmtFullBath                  0.016176\n",
       "2ndFlrSF                      0.013568\n",
       "Exterior1st_Others            0.012696\n",
       "Condition1_Norm               0.012603\n",
       "Neighborhood_NridgHt          0.012388\n",
       "MSZoning_RL                   0.011895\n",
       "BsmtExposure_Gd               0.011067\n",
       "Neighborhood_StoneBr          0.009724\n",
       "ScreenPorch                   0.008921\n",
       "MSSubClass_1StryPUD           0.008581\n",
       "Exterior1st_MetalSd           0.008432\n",
       "Exterior1st_VinylSd           0.008356\n",
       "FireplaceQu_Gd                0.007398\n",
       "1stFlrSF                      0.000000\n",
       "BsmtFinType1_NA              -0.000000\n",
       "BsmtQual_NA                  -0.000010\n",
       "BsmtExposure_NA              -0.000046\n",
       "BsmtCond_NA                  -0.003484\n",
       "LowQualFinSF                 -0.004850\n",
       "MSSubClass_1_15StryAllAges   -0.008137\n",
       "Neighborhood_Edwards         -0.008601\n",
       "Neighborhood_Mitchel         -0.009146\n",
       "RemodAge                     -0.009282\n",
       "BsmtQual_TA                  -0.009342\n",
       "KitchenQual                  -0.009342\n",
       "Neighborhood_IDOTRR          -0.009734\n",
       "Neighborhood_BrDale          -0.009932\n",
       "Neighborhood_OldTown         -0.010062\n",
       "BldgType_Duplex              -0.010592\n",
       "MSSubClass_Others            -0.011287\n",
       "BldgType_TwnhsE              -0.011815\n",
       "MSSubClass_2StryNewer        -0.014491\n",
       "BldgType_Others              -0.015802\n",
       "FireplaceQu_NA               -0.016321\n",
       "Neighborhood_MeadowV         -0.016685\n",
       "HouseStyle_1Story            -0.018053\n",
       "BsmtQual_Gd                  -0.020622\n",
       "buildingAge                  -0.081865\n",
       "dtype: float64"
      ]
     },
     "execution_count": 967,
     "metadata": {},
     "output_type": "execute_result"
    }
   ],
   "source": [
    "pd.Series(lasso.coef_, index = X_train_rfe.columns).sort_values(ascending=False)"
   ]
  },
  {
   "cell_type": "code",
   "execution_count": 968,
   "metadata": {},
   "outputs": [
    {
     "data": {
      "text/plain": [
       "GrLivArea               0.120170\n",
       "OverallQual             0.074864\n",
       "OverallCond             0.057216\n",
       "TotalBsmtSF             0.051118\n",
       "Foundation_PConc        0.021950\n",
       "LotArea                 0.021667\n",
       "BsmtFinSF1              0.020604\n",
       "GarageCars              0.019900\n",
       "BsmtCond_TA             0.018431\n",
       "GarageArea              0.018293\n",
       "Neighborhood_Crawfor    0.017746\n",
       "Neighborhood_Somerst    0.016836\n",
       "BsmtFullBath            0.016176\n",
       "2ndFlrSF                0.013568\n",
       "Exterior1st_Others      0.012696\n",
       "dtype: float64"
      ]
     },
     "execution_count": 968,
     "metadata": {},
     "output_type": "execute_result"
    }
   ],
   "source": [
    "pd.Series(lasso.coef_, index = X_train_rfe.columns).sort_values(ascending=False).head(15)\n",
    "#Below mentioned 15 features are having the most influence on SalePrice in positive manner"
   ]
  },
  {
   "cell_type": "code",
   "execution_count": 969,
   "metadata": {},
   "outputs": [
    {
     "data": {
      "text/plain": [
       "GrLivArea               0.120170\n",
       "buildingAge             0.081865\n",
       "OverallQual             0.074864\n",
       "OverallCond             0.057216\n",
       "TotalBsmtSF             0.051118\n",
       "Foundation_PConc        0.021950\n",
       "LotArea                 0.021667\n",
       "BsmtQual_Gd             0.020622\n",
       "BsmtFinSF1              0.020604\n",
       "GarageCars              0.019900\n",
       "BsmtCond_TA             0.018431\n",
       "GarageArea              0.018293\n",
       "HouseStyle_1Story       0.018053\n",
       "Neighborhood_Crawfor    0.017746\n",
       "Neighborhood_Somerst    0.016836\n",
       "dtype: float64"
      ]
     },
     "execution_count": 969,
     "metadata": {},
     "output_type": "execute_result"
    }
   ],
   "source": [
    "pd.Series(np.absolute(lasso.coef_), index = X_train_rfe.columns).sort_values(ascending=False).head(15)\n",
    "#I believe -ve factors also should be considered and these are -vely correlated and have a big impact on SalePrice\n",
    "#Below table shows the absolute value of top 15 factors\n"
   ]
  },
  {
   "cell_type": "code",
   "execution_count": 970,
   "metadata": {},
   "outputs": [
    {
     "name": "stdout",
     "output_type": "stream",
     "text": [
      "Lasso Train Score :  0.9262685704856588\n",
      "Lasso Test Score :  0.8796840444940227\n"
     ]
    }
   ],
   "source": [
    "# predict\n",
    "y_train_pred = lasso.predict(X_train_rfe)\n",
    "print(\"Lasso Train Score : \", r2_score(y_true=y_train, y_pred=y_train_pred))\n",
    "y_test_pred = lasso.predict(X_test_rfe)\n",
    "print(\"Lasso Test Score : \", r2_score(y_true=y_test, y_pred=y_test_pred))"
   ]
  },
  {
   "cell_type": "markdown",
   "metadata": {},
   "source": [
    "Lasso Regression - Lambda is taken as 0.0004\n",
    "\n",
    "GrLivArea               0.120170\n",
    "buildingAge (-ve)             0.081865\n",
    "OverallQual             0.074864\n",
    "OverallCond             0.057216\n",
    "TotalBsmtSF             0.051118\n",
    "Foundation_PConc        0.021950\n",
    "LotArea                 0.021667\n",
    "BsmtQual_Gd(-ve)         0.020622\n",
    "BsmtFinSF1              0.020604\n",
    "GarageCars              0.019900\n",
    "BsmtCond_TA             0.018431\n",
    "GarageArea              0.018293\n",
    "HouseStyle_1Story  (-ve)     0.018053\n",
    "Neighborhood_Crawfor    0.017746\n",
    "Neighborhood_Somerst    0.016836"
   ]
  },
  {
   "cell_type": "markdown",
   "metadata": {},
   "source": [
    "##### Regularization - Ridge"
   ]
  },
  {
   "cell_type": "code",
   "execution_count": 971,
   "metadata": {},
   "outputs": [],
   "source": [
    "# list of alphas to tune\n",
    "params = {'alpha': [ 1.0, 2.0, 3.0, 4.0, 5.0, 6.0, 7.0, 8.0, 9.0, 10.0, 20, 50, 100, 500, 1000 ]}\n",
    "# cross validation\n",
    "folds = 5"
   ]
  },
  {
   "cell_type": "code",
   "execution_count": 972,
   "metadata": {},
   "outputs": [
    {
     "name": "stdout",
     "output_type": "stream",
     "text": [
      "Fitting 5 folds for each of 15 candidates, totalling 75 fits\n"
     ]
    },
    {
     "name": "stderr",
     "output_type": "stream",
     "text": [
      "[Parallel(n_jobs=1)]: Using backend SequentialBackend with 1 concurrent workers.\n",
      "[Parallel(n_jobs=1)]: Done  75 out of  75 | elapsed:    0.3s finished\n"
     ]
    },
    {
     "data": {
      "text/plain": [
       "GridSearchCV(cv=5, error_score='raise-deprecating',\n",
       "       estimator=Ridge(alpha=1.0, copy_X=True, fit_intercept=True, max_iter=None,\n",
       "   normalize=False, random_state=None, solver='auto', tol=0.001),\n",
       "       fit_params=None, iid='warn', n_jobs=None,\n",
       "       param_grid={'alpha': [1.0, 2.0, 3.0, 4.0, 5.0, 6.0, 7.0, 8.0, 9.0, 10.0, 20, 50, 100, 500, 1000]},\n",
       "       pre_dispatch='2*n_jobs', refit=True, return_train_score=True,\n",
       "       scoring='neg_mean_absolute_error', verbose=1)"
      ]
     },
     "execution_count": 972,
     "metadata": {},
     "output_type": "execute_result"
    }
   ],
   "source": [
    "ridge = Ridge()\n",
    "\n",
    "model_cv = GridSearchCV(estimator = ridge, \n",
    "                        param_grid = params, \n",
    "                        scoring= 'neg_mean_absolute_error', \n",
    "                        cv = folds, \n",
    "                        return_train_score=True,\n",
    "                        verbose = 1)            \n",
    "model_cv.fit(X_train_rfe, y_train) "
   ]
  },
  {
   "cell_type": "code",
   "execution_count": 973,
   "metadata": {},
   "outputs": [
    {
     "data": {
      "text/html": [
       "<div>\n",
       "<style scoped>\n",
       "    .dataframe tbody tr th:only-of-type {\n",
       "        vertical-align: middle;\n",
       "    }\n",
       "\n",
       "    .dataframe tbody tr th {\n",
       "        vertical-align: top;\n",
       "    }\n",
       "\n",
       "    .dataframe thead th {\n",
       "        text-align: right;\n",
       "    }\n",
       "</style>\n",
       "<table border=\"1\" class=\"dataframe\">\n",
       "  <thead>\n",
       "    <tr style=\"text-align: right;\">\n",
       "      <th></th>\n",
       "      <th>mean_fit_time</th>\n",
       "      <th>std_fit_time</th>\n",
       "      <th>mean_score_time</th>\n",
       "      <th>std_score_time</th>\n",
       "      <th>param_alpha</th>\n",
       "      <th>params</th>\n",
       "      <th>split0_test_score</th>\n",
       "      <th>split1_test_score</th>\n",
       "      <th>split2_test_score</th>\n",
       "      <th>split3_test_score</th>\n",
       "      <th>...</th>\n",
       "      <th>mean_test_score</th>\n",
       "      <th>std_test_score</th>\n",
       "      <th>rank_test_score</th>\n",
       "      <th>split0_train_score</th>\n",
       "      <th>split1_train_score</th>\n",
       "      <th>split2_train_score</th>\n",
       "      <th>split3_train_score</th>\n",
       "      <th>split4_train_score</th>\n",
       "      <th>mean_train_score</th>\n",
       "      <th>std_train_score</th>\n",
       "    </tr>\n",
       "  </thead>\n",
       "  <tbody>\n",
       "    <tr>\n",
       "      <th>0</th>\n",
       "      <td>0.003598</td>\n",
       "      <td>0.001356</td>\n",
       "      <td>0.000800</td>\n",
       "      <td>7.481371e-04</td>\n",
       "      <td>1</td>\n",
       "      <td>{'alpha': 1.0}</td>\n",
       "      <td>-0.079403</td>\n",
       "      <td>-0.075300</td>\n",
       "      <td>-0.077884</td>\n",
       "      <td>-0.075492</td>\n",
       "      <td>...</td>\n",
       "      <td>-0.077279</td>\n",
       "      <td>0.001617</td>\n",
       "      <td>13</td>\n",
       "      <td>-0.072277</td>\n",
       "      <td>-0.072706</td>\n",
       "      <td>-0.071431</td>\n",
       "      <td>-0.072512</td>\n",
       "      <td>-0.071842</td>\n",
       "      <td>-0.072154</td>\n",
       "      <td>0.000462</td>\n",
       "    </tr>\n",
       "    <tr>\n",
       "      <th>1</th>\n",
       "      <td>0.003401</td>\n",
       "      <td>0.000487</td>\n",
       "      <td>0.001596</td>\n",
       "      <td>4.873563e-04</td>\n",
       "      <td>2</td>\n",
       "      <td>{'alpha': 2.0}</td>\n",
       "      <td>-0.079365</td>\n",
       "      <td>-0.075289</td>\n",
       "      <td>-0.077859</td>\n",
       "      <td>-0.075396</td>\n",
       "      <td>...</td>\n",
       "      <td>-0.077238</td>\n",
       "      <td>0.001625</td>\n",
       "      <td>12</td>\n",
       "      <td>-0.072264</td>\n",
       "      <td>-0.072706</td>\n",
       "      <td>-0.071432</td>\n",
       "      <td>-0.072501</td>\n",
       "      <td>-0.071827</td>\n",
       "      <td>-0.072146</td>\n",
       "      <td>0.000462</td>\n",
       "    </tr>\n",
       "    <tr>\n",
       "      <th>2</th>\n",
       "      <td>0.003198</td>\n",
       "      <td>0.000748</td>\n",
       "      <td>0.000999</td>\n",
       "      <td>5.436780e-07</td>\n",
       "      <td>3</td>\n",
       "      <td>{'alpha': 3.0}</td>\n",
       "      <td>-0.079327</td>\n",
       "      <td>-0.075280</td>\n",
       "      <td>-0.077836</td>\n",
       "      <td>-0.075303</td>\n",
       "      <td>...</td>\n",
       "      <td>-0.077199</td>\n",
       "      <td>0.001633</td>\n",
       "      <td>10</td>\n",
       "      <td>-0.072252</td>\n",
       "      <td>-0.072705</td>\n",
       "      <td>-0.071435</td>\n",
       "      <td>-0.072491</td>\n",
       "      <td>-0.071814</td>\n",
       "      <td>-0.072139</td>\n",
       "      <td>0.000460</td>\n",
       "    </tr>\n",
       "    <tr>\n",
       "      <th>3</th>\n",
       "      <td>0.002199</td>\n",
       "      <td>0.000400</td>\n",
       "      <td>0.001010</td>\n",
       "      <td>6.329574e-04</td>\n",
       "      <td>4</td>\n",
       "      <td>{'alpha': 4.0}</td>\n",
       "      <td>-0.079293</td>\n",
       "      <td>-0.075272</td>\n",
       "      <td>-0.077813</td>\n",
       "      <td>-0.075219</td>\n",
       "      <td>...</td>\n",
       "      <td>-0.077164</td>\n",
       "      <td>0.001641</td>\n",
       "      <td>9</td>\n",
       "      <td>-0.072243</td>\n",
       "      <td>-0.072705</td>\n",
       "      <td>-0.071443</td>\n",
       "      <td>-0.072482</td>\n",
       "      <td>-0.071803</td>\n",
       "      <td>-0.072135</td>\n",
       "      <td>0.000457</td>\n",
       "    </tr>\n",
       "    <tr>\n",
       "      <th>4</th>\n",
       "      <td>0.002599</td>\n",
       "      <td>0.000490</td>\n",
       "      <td>0.000799</td>\n",
       "      <td>3.996850e-04</td>\n",
       "      <td>5</td>\n",
       "      <td>{'alpha': 5.0}</td>\n",
       "      <td>-0.079259</td>\n",
       "      <td>-0.075265</td>\n",
       "      <td>-0.077799</td>\n",
       "      <td>-0.075139</td>\n",
       "      <td>...</td>\n",
       "      <td>-0.077133</td>\n",
       "      <td>0.001648</td>\n",
       "      <td>8</td>\n",
       "      <td>-0.072237</td>\n",
       "      <td>-0.072705</td>\n",
       "      <td>-0.071452</td>\n",
       "      <td>-0.072473</td>\n",
       "      <td>-0.071794</td>\n",
       "      <td>-0.072132</td>\n",
       "      <td>0.000454</td>\n",
       "    </tr>\n",
       "  </tbody>\n",
       "</table>\n",
       "<p>5 rows × 21 columns</p>\n",
       "</div>"
      ],
      "text/plain": [
       "   mean_fit_time  std_fit_time  mean_score_time  std_score_time param_alpha  \\\n",
       "0       0.003598      0.001356         0.000800    7.481371e-04           1   \n",
       "1       0.003401      0.000487         0.001596    4.873563e-04           2   \n",
       "2       0.003198      0.000748         0.000999    5.436780e-07           3   \n",
       "3       0.002199      0.000400         0.001010    6.329574e-04           4   \n",
       "4       0.002599      0.000490         0.000799    3.996850e-04           5   \n",
       "\n",
       "           params  split0_test_score  split1_test_score  split2_test_score  \\\n",
       "0  {'alpha': 1.0}          -0.079403          -0.075300          -0.077884   \n",
       "1  {'alpha': 2.0}          -0.079365          -0.075289          -0.077859   \n",
       "2  {'alpha': 3.0}          -0.079327          -0.075280          -0.077836   \n",
       "3  {'alpha': 4.0}          -0.079293          -0.075272          -0.077813   \n",
       "4  {'alpha': 5.0}          -0.079259          -0.075265          -0.077799   \n",
       "\n",
       "   split3_test_score       ...         mean_test_score  std_test_score  \\\n",
       "0          -0.075492       ...               -0.077279        0.001617   \n",
       "1          -0.075396       ...               -0.077238        0.001625   \n",
       "2          -0.075303       ...               -0.077199        0.001633   \n",
       "3          -0.075219       ...               -0.077164        0.001641   \n",
       "4          -0.075139       ...               -0.077133        0.001648   \n",
       "\n",
       "   rank_test_score  split0_train_score  split1_train_score  \\\n",
       "0               13           -0.072277           -0.072706   \n",
       "1               12           -0.072264           -0.072706   \n",
       "2               10           -0.072252           -0.072705   \n",
       "3                9           -0.072243           -0.072705   \n",
       "4                8           -0.072237           -0.072705   \n",
       "\n",
       "   split2_train_score  split3_train_score  split4_train_score  \\\n",
       "0           -0.071431           -0.072512           -0.071842   \n",
       "1           -0.071432           -0.072501           -0.071827   \n",
       "2           -0.071435           -0.072491           -0.071814   \n",
       "3           -0.071443           -0.072482           -0.071803   \n",
       "4           -0.071452           -0.072473           -0.071794   \n",
       "\n",
       "   mean_train_score  std_train_score  \n",
       "0         -0.072154         0.000462  \n",
       "1         -0.072146         0.000462  \n",
       "2         -0.072139         0.000460  \n",
       "3         -0.072135         0.000457  \n",
       "4         -0.072132         0.000454  \n",
       "\n",
       "[5 rows x 21 columns]"
      ]
     },
     "execution_count": 973,
     "metadata": {},
     "output_type": "execute_result"
    }
   ],
   "source": [
    "cv_results = pd.DataFrame(model_cv.cv_results_)\n",
    "cv_results = cv_results[cv_results['param_alpha']<=200]\n",
    "cv_results.head()"
   ]
  },
  {
   "cell_type": "code",
   "execution_count": 974,
   "metadata": {},
   "outputs": [
    {
     "data": {
      "image/png": "[encoded data removed]",
      "text/plain": [
       "<Figure size 432x288 with 1 Axes>"
      ]
     },
     "metadata": {
      "needs_background": "light"
     },
     "output_type": "display_data"
    }
   ],
   "source": [
    "# plotting mean test and train scoes with alpha \n",
    "cv_results['param_alpha'] = cv_results['param_alpha'].astype('int32')\n",
    "\n",
    "# plotting\n",
    "plt.plot(cv_results['param_alpha'], cv_results['mean_train_score'])\n",
    "plt.plot(cv_results['param_alpha'], cv_results['mean_test_score'])\n",
    "plt.xlabel('alpha')\n",
    "plt.ylabel('Negative Mean Absolute Error')\n",
    "plt.title(\"Negative Mean Absolute Error and alpha\")\n",
    "plt.legend(['train score', 'test score'], loc='upper left')\n",
    "plt.show()"
   ]
  },
  {
   "cell_type": "code",
   "execution_count": 975,
   "metadata": {},
   "outputs": [
    {
     "data": {
      "text/plain": [
       "array([ 0.02178045,  0.07317095,  0.05453122,  0.01998519,  0.05086585,\n",
       "        0.03461612,  0.05205554, -0.00104405,  0.07255047,  0.01577036,\n",
       "       -0.00972291,  0.02077254,  0.01896384,  0.00891366, -0.07308993,\n",
       "       -0.01235579,  0.00880609, -0.01152784, -0.01552401, -0.01518098,\n",
       "        0.01202724, -0.00953203,  0.01744436, -0.00939152, -0.01099882,\n",
       "       -0.01683092, -0.00938474,  0.01263547, -0.01144373,  0.01764319,\n",
       "        0.01041534,  0.01303956, -0.00961286, -0.01579319, -0.01227636,\n",
       "        0.0227467 , -0.0229983 ,  0.00921408,  0.01361186,  0.00981657,\n",
       "       -0.02291369, -0.00236905, -0.01334276, -0.00236905,  0.01660152,\n",
       "        0.01123793, -0.00236905, -0.00236905,  0.00764812, -0.01698966])"
      ]
     },
     "execution_count": 975,
     "metadata": {},
     "output_type": "execute_result"
    }
   ],
   "source": [
    "alpha = 20\n",
    "ridge = Ridge(alpha=alpha)\n",
    "\n",
    "ridge.fit(X_train_rfe, y_train)\n",
    "ridge.coef_"
   ]
  },
  {
   "cell_type": "code",
   "execution_count": 976,
   "metadata": {},
   "outputs": [
    {
     "data": {
      "text/plain": [
       "OverallQual                   0.073171\n",
       "GrLivArea                     0.072550\n",
       "OverallCond                   0.054531\n",
       "2ndFlrSF                      0.052056\n",
       "TotalBsmtSF                   0.050866\n",
       "1stFlrSF                      0.034616\n",
       "Foundation_PConc              0.022747\n",
       "LotArea                       0.021780\n",
       "GarageCars                    0.020773\n",
       "BsmtFinSF1                    0.019985\n",
       "GarageArea                    0.018964\n",
       "Neighborhood_Somerst          0.017643\n",
       "Neighborhood_Crawfor          0.017444\n",
       "BsmtCond_TA                   0.016602\n",
       "BsmtFullBath                  0.015770\n",
       "Exterior1st_Others            0.013612\n",
       "Condition1_Norm               0.013040\n",
       "Neighborhood_NridgHt          0.012635\n",
       "MSZoning_RL                   0.012027\n",
       "BsmtExposure_Gd               0.011238\n",
       "Neighborhood_StoneBr          0.010415\n",
       "Exterior1st_VinylSd           0.009817\n",
       "Exterior1st_MetalSd           0.009214\n",
       "ScreenPorch                   0.008914\n",
       "MSSubClass_1StryPUD           0.008806\n",
       "FireplaceQu_Gd                0.007648\n",
       "LowQualFinSF                 -0.001044\n",
       "BsmtExposure_NA              -0.002369\n",
       "BsmtCond_NA                  -0.002369\n",
       "BsmtQual_NA                  -0.002369\n",
       "BsmtFinType1_NA              -0.002369\n",
       "Neighborhood_Mitchel         -0.009385\n",
       "Neighborhood_Edwards         -0.009392\n",
       "Neighborhood_BrDale          -0.009532\n",
       "BldgType_Duplex              -0.009613\n",
       "KitchenQual                  -0.009723\n",
       "Neighborhood_IDOTRR          -0.010999\n",
       "Neighborhood_OldTown         -0.011444\n",
       "MSSubClass_1_15StryAllAges   -0.011528\n",
       "BldgType_TwnhsE              -0.012276\n",
       "RemodAge                     -0.012356\n",
       "BsmtQual_TA                  -0.013343\n",
       "MSSubClass_Others            -0.015181\n",
       "MSSubClass_2StryNewer        -0.015524\n",
       "BldgType_Others              -0.015793\n",
       "Neighborhood_MeadowV         -0.016831\n",
       "FireplaceQu_NA               -0.016990\n",
       "BsmtQual_Gd                  -0.022914\n",
       "HouseStyle_1Story            -0.022998\n",
       "buildingAge                  -0.073090\n",
       "dtype: float64"
      ]
     },
     "execution_count": 976,
     "metadata": {},
     "output_type": "execute_result"
    }
   ],
   "source": [
    "pd.Series(ridge.coef_, index = X_train_rfe.columns).sort_values(ascending=False)"
   ]
  },
  {
   "cell_type": "code",
   "execution_count": 977,
   "metadata": {},
   "outputs": [
    {
     "data": {
      "text/plain": [
       "OverallQual                   0.073171\n",
       "buildingAge                   0.073090\n",
       "GrLivArea                     0.072550\n",
       "OverallCond                   0.054531\n",
       "2ndFlrSF                      0.052056\n",
       "TotalBsmtSF                   0.050866\n",
       "1stFlrSF                      0.034616\n",
       "HouseStyle_1Story             0.022998\n",
       "BsmtQual_Gd                   0.022914\n",
       "Foundation_PConc              0.022747\n",
       "LotArea                       0.021780\n",
       "GarageCars                    0.020773\n",
       "BsmtFinSF1                    0.019985\n",
       "GarageArea                    0.018964\n",
       "Neighborhood_Somerst          0.017643\n",
       "Neighborhood_Crawfor          0.017444\n",
       "FireplaceQu_NA                0.016990\n",
       "Neighborhood_MeadowV          0.016831\n",
       "BsmtCond_TA                   0.016602\n",
       "BldgType_Others               0.015793\n",
       "BsmtFullBath                  0.015770\n",
       "MSSubClass_2StryNewer         0.015524\n",
       "MSSubClass_Others             0.015181\n",
       "Exterior1st_Others            0.013612\n",
       "BsmtQual_TA                   0.013343\n",
       "Condition1_Norm               0.013040\n",
       "Neighborhood_NridgHt          0.012635\n",
       "RemodAge                      0.012356\n",
       "BldgType_TwnhsE               0.012276\n",
       "MSZoning_RL                   0.012027\n",
       "MSSubClass_1_15StryAllAges    0.011528\n",
       "Neighborhood_OldTown          0.011444\n",
       "BsmtExposure_Gd               0.011238\n",
       "Neighborhood_IDOTRR           0.010999\n",
       "Neighborhood_StoneBr          0.010415\n",
       "Exterior1st_VinylSd           0.009817\n",
       "KitchenQual                   0.009723\n",
       "BldgType_Duplex               0.009613\n",
       "Neighborhood_BrDale           0.009532\n",
       "Neighborhood_Edwards          0.009392\n",
       "Neighborhood_Mitchel          0.009385\n",
       "Exterior1st_MetalSd           0.009214\n",
       "ScreenPorch                   0.008914\n",
       "MSSubClass_1StryPUD           0.008806\n",
       "FireplaceQu_Gd                0.007648\n",
       "BsmtFinType1_NA               0.002369\n",
       "BsmtQual_NA                   0.002369\n",
       "BsmtCond_NA                   0.002369\n",
       "BsmtExposure_NA               0.002369\n",
       "LowQualFinSF                  0.001044\n",
       "dtype: float64"
      ]
     },
     "execution_count": 977,
     "metadata": {},
     "output_type": "execute_result"
    }
   ],
   "source": [
    "pd.Series(np.absolute(ridge.coef_), index = X_train_rfe.columns).sort_values(ascending=False)"
   ]
  },
  {
   "cell_type": "code",
   "execution_count": 978,
   "metadata": {},
   "outputs": [
    {
     "data": {
      "text/plain": [
       "OverallQual             0.073171\n",
       "GrLivArea               0.072550\n",
       "OverallCond             0.054531\n",
       "2ndFlrSF                0.052056\n",
       "TotalBsmtSF             0.050866\n",
       "1stFlrSF                0.034616\n",
       "Foundation_PConc        0.022747\n",
       "LotArea                 0.021780\n",
       "GarageCars              0.020773\n",
       "BsmtFinSF1              0.019985\n",
       "GarageArea              0.018964\n",
       "Neighborhood_Somerst    0.017643\n",
       "Neighborhood_Crawfor    0.017444\n",
       "BsmtCond_TA             0.016602\n",
       "BsmtFullBath            0.015770\n",
       "dtype: float64"
      ]
     },
     "execution_count": 978,
     "metadata": {},
     "output_type": "execute_result"
    }
   ],
   "source": [
    "#Below mentioned 15 features are having the most influence on SalePrice in positive manner\n",
    "pd.Series(ridge.coef_, index = X_train_rfe.columns).sort_values(ascending=False).head(15)"
   ]
  },
  {
   "cell_type": "code",
   "execution_count": 979,
   "metadata": {},
   "outputs": [
    {
     "data": {
      "text/plain": [
       "OverallQual             0.073171\n",
       "buildingAge             0.073090\n",
       "GrLivArea               0.072550\n",
       "OverallCond             0.054531\n",
       "2ndFlrSF                0.052056\n",
       "TotalBsmtSF             0.050866\n",
       "1stFlrSF                0.034616\n",
       "HouseStyle_1Story       0.022998\n",
       "BsmtQual_Gd             0.022914\n",
       "Foundation_PConc        0.022747\n",
       "LotArea                 0.021780\n",
       "GarageCars              0.020773\n",
       "BsmtFinSF1              0.019985\n",
       "GarageArea              0.018964\n",
       "Neighborhood_Somerst    0.017643\n",
       "dtype: float64"
      ]
     },
     "execution_count": 979,
     "metadata": {},
     "output_type": "execute_result"
    }
   ],
   "source": [
    "#I believe -ve factors also should be considered and these are -vely correlated and have a big impact on SalePrice\n",
    "#Below table shows the absolute value of top 15 factors\n",
    "pd.Series(np.absolute(ridge.coef_), index = X_train_rfe.columns).sort_values(ascending=False).head(15)"
   ]
  },
  {
   "cell_type": "markdown",
   "metadata": {},
   "source": [
    "Ridge Regression - Lambda is taken as 20\n",
    "\n",
    "OverallQual             0.073171\n",
    "buildingAge (-ve)         0.073090\n",
    "GrLivArea               0.072550\n",
    "OverallCond             0.054531\n",
    "2ndFlrSF                0.052056\n",
    "TotalBsmtSF             0.050866\n",
    "1stFlrSF                0.034616\n",
    "HouseStyle_1Story (-ve)      0.022998\n",
    "BsmtQual_Gd (-ve)            0.022914\n",
    "Foundation_PConc        0.022747\n",
    "LotArea                 0.021780\n",
    "GarageCars              0.020773\n",
    "BsmtFinSF1              0.019985\n",
    "GarageArea              0.018964\n",
    "Neighborhood_Somerst    0.017643"
   ]
  },
  {
   "cell_type": "code",
   "execution_count": 980,
   "metadata": {},
   "outputs": [
    {
     "name": "stdout",
     "output_type": "stream",
     "text": [
      "Ridge train score :  0.9262318071295061\n",
      "Ridge test score :  0.8806007901047123\n"
     ]
    }
   ],
   "source": [
    "# predict\n",
    "y_train_pred = ridge.predict(X_train_rfe)\n",
    "print(\"Ridge train score : \", r2_score(y_true=y_train, y_pred=y_train_pred))\n",
    "y_test_pred = ridge.predict(X_test_rfe)\n",
    "print(\"Ridge test score : \", r2_score(y_true=y_test, y_pred=y_test_pred))"
   ]
  },
  {
   "cell_type": "code",
   "execution_count": null,
   "metadata": {},
   "outputs": [],
   "source": []
  }
 ],
 "metadata": {
  "kernelspec": {
   "display_name": "Python 3",
   "language": "python",
   "name": "python3"
  },
  "language_info": {
   "codemirror_mode": {
    "name": "ipython",
    "version": 3
   },
   "file_extension": ".py",
   "mimetype": "text/x-python",
   "name": "python",
   "nbconvert_exporter": "python",
   "pygments_lexer": "ipython3",
   "version": "3.6.7"
  }
 },
 "nbformat": 4,
 "nbformat_minor": 2
}
